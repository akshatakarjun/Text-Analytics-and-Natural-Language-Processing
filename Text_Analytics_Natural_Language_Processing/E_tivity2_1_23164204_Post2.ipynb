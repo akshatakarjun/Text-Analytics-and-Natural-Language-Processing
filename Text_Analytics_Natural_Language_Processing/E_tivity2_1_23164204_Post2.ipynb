{
  "nbformat": 4,
  "nbformat_minor": 0,
  "metadata": {
    "colab": {
      "provenance": []
    },
    "kernelspec": {
      "name": "python3",
      "display_name": "Python 3"
    },
    "language_info": {
      "name": "python"
    }
  },
  "cells": [
    {
      "cell_type": "markdown",
      "source": [
        "### Name: Akshata Bheemasamudra Mallikarjunappa\n",
        "#### Student ID: 23164204"
      ],
      "metadata": {
        "id": "ZSPzqSny_K_I"
      }
    },
    {
      "cell_type": "markdown",
      "source": [
        "## Improvements\n",
        "\n",
        "1. Corrected the test case input to 'intention' and 'executio5' as opposed to the previous file which was vice versa and did not meet the Task1b criteria.\n",
        "2. Made the output print statements mode readable and as expected\n",
        "3. As per my peers' (Rajesh and Vignesh) suggestion, included f string format in print statement to include string and variables inside a string.\n",
        "4. I inititally checked both, first name and last name simultaneously in which case the output returned as False even when one of the two names existed in the data set. However after reviewing Kaushal Bhavsar's notebook, I broke it down as two elements to check first name and last name separately."
      ],
      "metadata": {
        "id": "szvW4x2m_LQM"
      }
    },
    {
      "cell_type": "markdown",
      "source": [
        "## Task 1"
      ],
      "metadata": {
        "id": "cgU3oC_P_6qU"
      }
    },
    {
      "cell_type": "code",
      "source": [
        "import time\n",
        "\n",
        "#How many insertions, deletions, or substitutions does it take to turn x into y?\n",
        "def edDistRecursive(x, y):\n",
        "\n",
        "    # If either x or y are empty, then one or more (depending on their length) INSERTIONS or DELECTIONS are needed to transform x to y.\n",
        "    if len(x) == 0:\n",
        "        #print(f'\\t Converting \"{x}\" TO \"{y}\" requires {len(y)} INSERTIONS, therefor it costs {len(y)}')\n",
        "        return len(y)\n",
        "    if len(y) == 0:\n",
        "        #print(f'\\t Converting \"{x}\" TO \"{y}\" requires {len(x)} DELETIONS, therefor it costs {len(x)}')\n",
        "        return len(x)\n",
        "\n",
        "    # When neither x or y are empty, we must compute the cost of each operation and find the least costly one.\n",
        "    # delta = 1 if x[-1] != y[-1] else 0\n",
        "\n",
        "    num = '0123456789'\n",
        "    if x[-1] != y[-1]:\n",
        "      delta = 1\n",
        "      if x[-1] not in num and y[-1] in num:\n",
        "       delta = 2\n",
        "    else:\n",
        "      delta = 0\n",
        "\n",
        "    diagonal_or_substitution_cost = edDistRecursive(x[:-1], y[:-1]) + delta #what's the cost of SUBSTITUTING the last character of x with the last character of y\n",
        "    vertical_or_deletion_cost     = edDistRecursive(x[:-1], y)      + 1     #what's the cost of DELETING the last character of x\n",
        "    horizontal_or_insertion_cost  = edDistRecursive(x, y[:-1])      + 1     #what's the cost of INSERTING the last character of x into y\n",
        "\n",
        "    # what's the least costly operation?\n",
        "    minValue = min(diagonal_or_substitution_cost, vertical_or_deletion_cost, horizontal_or_insertion_cost)\n",
        "    return minValue\n"
      ],
      "metadata": {
        "id": "_1Zqz4bz_KXU"
      },
      "execution_count": 11,
      "outputs": []
    },
    {
      "cell_type": "code",
      "execution_count": 17,
      "metadata": {
        "colab": {
          "base_uri": "https://localhost:8080/"
        },
        "id": "Dz5WTnM__Dsq",
        "outputId": "3a9ff111-8626-4252-d061-3c5d85b62189"
      },
      "outputs": [
        {
          "output_type": "stream",
          "name": "stdout",
          "text": [
            "5\n",
            "7\n"
          ]
        }
      ],
      "source": [
        "# when last characters are a letter\n",
        "print(edDistRecursive('intention','execution'))\n",
        "# when last source char is a letter and target input is a number\n",
        "print(edDistRecursive('intention','executio5'))"
      ]
    },
    {
      "cell_type": "code",
      "source": [
        "# b. Measuring the execution time\n",
        "start = time.time()\n",
        "print(f\"Edit Distance between \\'intention\\' and \\'execution\\' is {edDistRecursive('intention','execution')}\")\n",
        "end = time.time()\n",
        "print(f\"---Executed in {end-start} seconds---\")\n",
        "\n",
        "begin = time.time()\n",
        "print(f\"Edit Distance between \\'intention\\' and \\'executio5\\' is {edDistRecursive('intention','executio5')}\")\n",
        "final = time.time()\n",
        "print(f\"---Executed in {final-begin} seconds---\")"
      ],
      "metadata": {
        "colab": {
          "base_uri": "https://localhost:8080/"
        },
        "id": "FfJAQjZFCCZo",
        "outputId": "1ffb3c7a-8c51-4bf8-f5e0-2a2a7be4504c"
      },
      "execution_count": 64,
      "outputs": [
        {
          "output_type": "stream",
          "name": "stdout",
          "text": [
            "Edit Distance between 'intention' and 'execution' is 5\n",
            "---Executed in 0.5541749000549316 seconds---\n",
            "Edit Distance between 'intention' and 'executio5' is 7\n",
            "---Executed in 0.5463008880615234 seconds---\n"
          ]
        }
      ]
    },
    {
      "cell_type": "markdown",
      "source": [
        "## Task 2"
      ],
      "metadata": {
        "id": "8QLFJeh1Hlb3"
      }
    },
    {
      "cell_type": "code",
      "source": [
        "# Installing the required packages\n",
        "!pip install names-dataset\n",
        "!pip install jellyfish\n",
        "from names_dataset import NameDataset, NameWrapper\n",
        "nd = NameDataset()\n",
        "import jellyfish"
      ],
      "metadata": {
        "colab": {
          "base_uri": "https://localhost:8080/"
        },
        "id": "1opP6ls8DxaD",
        "outputId": "320d5e16-af67-4887-fa1c-ad67c3878727"
      },
      "execution_count": 47,
      "outputs": [
        {
          "output_type": "stream",
          "name": "stdout",
          "text": [
            "Requirement already satisfied: names-dataset in /usr/local/lib/python3.10/dist-packages (3.1.0)\n",
            "Requirement already satisfied: pycountry in /usr/local/lib/python3.10/dist-packages (from names-dataset) (22.3.5)\n",
            "Requirement already satisfied: setuptools in /usr/local/lib/python3.10/dist-packages (from pycountry->names-dataset) (67.7.2)\n",
            "Requirement already satisfied: jellyfish in /usr/local/lib/python3.10/dist-packages (1.0.1)\n"
          ]
        }
      ]
    },
    {
      "cell_type": "code",
      "source": [
        "# a. Checking if FirstName and LastName exist in the dataset\n",
        "def check(FirstName, LastName):\n",
        "  if FirstName in nd.first_names:\n",
        "   print(f\"The first name {FirstName} exists in the dataset\")\n",
        "  if LastName in nd.last_names:\n",
        "    print(f\"The last name {LastName} exists in the dataset\")\n",
        "\n",
        "  else:\n",
        "    print(f\"The name does not exist\")"
      ],
      "metadata": {
        "id": "cNstm5uZH5gw"
      },
      "execution_count": 67,
      "outputs": []
    },
    {
      "cell_type": "code",
      "source": [
        "check('Anusha','BM')\n",
        "check('Laure', 'Canet')"
      ],
      "metadata": {
        "colab": {
          "base_uri": "https://localhost:8080/"
        },
        "id": "YDRMtzZTH6je",
        "outputId": "93a91486-3bdf-450b-cedc-6b963d23dae5"
      },
      "execution_count": 68,
      "outputs": [
        {
          "output_type": "stream",
          "name": "stdout",
          "text": [
            "The first name Anusha exists in the dataset\n",
            "The name does not exist\n",
            "The first name Laure exists in the dataset\n",
            "The last name Canet exists in the dataset\n"
          ]
        }
      ]
    },
    {
      "cell_type": "code",
      "source": [
        "#b . Printing the soundex cde of the name\n",
        "def code(firstname,lastname):\n",
        "  fn_code = jellyfish.soundex(firstname)\n",
        "  ln_code = jellyfish.soundex(lastname)\n",
        "  print(f\"The soundex code of your first name is : {fn_code}\")\n",
        "  print(f\"The soundex code of your last name is : {ln_code}\")"
      ],
      "metadata": {
        "id": "C3A_LVJ7IL5v"
      },
      "execution_count": 69,
      "outputs": []
    },
    {
      "cell_type": "code",
      "source": [
        "code('Akshata','BM')"
      ],
      "metadata": {
        "colab": {
          "base_uri": "https://localhost:8080/"
        },
        "id": "OpMCWcwELyQn",
        "outputId": "909591f4-d5ba-459d-c506-673368938471"
      },
      "execution_count": 70,
      "outputs": [
        {
          "output_type": "stream",
          "name": "stdout",
          "text": [
            "The soundex code of your first name is : A230\n",
            "The soundex code of your last name is : B500\n"
          ]
        }
      ]
    },
    {
      "cell_type": "code",
      "source": [
        "#c. Checking if the soundex codes are the same for input first names and the first names in the dataset\n",
        "def codecheck(FirstName):\n",
        "  soundx = jellyfish.soundex(FirstName)\n",
        "  firstnames = []\n",
        "  count = 0\n",
        "  for i in nd.first_names:\n",
        "    b = jellyfish.soundex(i)\n",
        "    if soundx == b:\n",
        "     firstnames.append(i)\n",
        "     count += 1\n",
        "\n",
        "  print(f\" The soundex  code is {soundx} and the names having the same soundex code is  {firstnames} \\n with the count {count}\")"
      ],
      "metadata": {
        "id": "6AFM9GM5L1Do"
      },
      "execution_count": 71,
      "outputs": []
    },
    {
      "cell_type": "code",
      "source": [
        "codecheck('名字')\n",
        "codecheck('Akshata')"
      ],
      "metadata": {
        "colab": {
          "base_uri": "https://localhost:8080/"
        },
        "id": "EDI97GEOMO9A",
        "outputId": "4e2a0915-9679-4d73-d3a7-101b17005d1e"
      },
      "execution_count": 72,
      "outputs": [
        {
          "output_type": "stream",
          "name": "stdout",
          "text": [
            " The soundex  code is 名000 and the names having the same soundex code is  ['名傑', '名宏', '名峰', '名扬', '名揚', '名氏', '名翔', '名軒'] \n",
            " with the count 8\n",
            " The soundex  code is A230 and the names having the same soundex code is  ['A Jaweed', 'A Seid', 'A-Sada', 'Aagata', 'Aagot', 'Aaishathu', 'Aajad', 'Aasd', 'Aasdh', 'Aassdd', 'Aasta', 'Aastha', 'Aazad', 'Aced', 'Aceite', 'Aceto', 'Achadoo', 'Achat', 'Achata', 'Achatou', 'Achd', 'Achiad', 'Achida', 'Achidi', 'Achit', 'Achitei', 'Achot', 'Achotia', 'Acht', 'Achta', 'Achut', 'Achyut', 'Achyuta', 'Acid', 'Acied', 'Acit', 'Acito', 'Aciyath', 'Act', 'Acta', 'Acte', 'Acti', 'Acxat', 'Acyuta', 'Aeeshat', 'Aeshath', 'Aeshąt', 'Aeyshath', 'Aga Ta', 'Agaat', 'Agaata', 'Agaath', 'Agada', 'Agadi', 'Agat', 'Agata', 'Agataa', 'Agate', 'Agath', 'Agatha', 'Agathe', 'Agathi', 'Agatta', 'Agd', 'Agda', 'Agead', 'Aged', 'Ageda', 'Agede', 'Ageedha', 'Ageeth', 'Aget', 'Ageta', 'Agete', 'Aghata', 'Aghead', 'Aghed', 'Aghedo', 'Aghiad', 'Aghid', 'Aghyad', 'Agiad', 'Agid', 'Agida', 'Agidi', 'Agit', 'Agita', 'Agod', 'Agodi', 'Agot', 'Agota', 'Agta', 'Aguda', 'Agude', 'Agudey', 'Agudie', 'Agudu', 'Agueda', 'Aguedo', 'Aguida', 'Agute', 'Agutė', 'Agya Adu', 'Agyad', 'Agáta', 'Ah Jawid', 'Ah Kiat', 'Ah Saot', 'Ahista', 'Ahsad', 'Ahshdhd', 'Aichata', 'Aichath', 'Aichatou', 'Aichetou', 'Aikido', 'Aikuti', 'Aisahth', 'Aisath', 'Aisathu', 'Aisatou', 'Aiseta', 'Aishat', 'Aishath', 'Aishatha', 'Aishathu', 'Aishatou', 'Aishatu', 'Aishetu', 'Aishth', 'Aisida', 'Aisooda', 'Aissat', 'Aissata', 'Aissati', 'Aissato', 'Aissatou', 'Aissatu', 'Aisseta', 'Aissetou', 'Aisstou', 'Aist', 'Aista', 'Aiste', 'Aistee', 'Aisthu', 'Aistu', 'Aistė', 'Aizad', 'Aizada', 'Aizat', 'Aizzat', 'Ajad', 'Ajada', 'Ajadi', 'Ajat', 'Ajata', 'Ajd', 'Ajda', 'Ajdaa', 'Ajde', 'Ajdha', 'Ajdi', 'Ajeed', 'Ajeet', 'Ajeeta', 'Ajeeth', 'Ajet', 'Ajeta', 'Ajete', 'Ajeti', 'Ajhadh', 'Ajid', 'Ajida', 'Ajide', 'Ajit', 'Ajita', 'Ajith', 'Ajitha', 'Ajodo', 'Ajsida', 'Ajta', 'Ajtai', 'Ajuda', 'Ajwad', 'Ajwadh', 'Ajwath', 'Akad', 'Akadi', 'Akat', 'Akata', 'Akate', 'Akateh', 'Akati', 'Akato', 'Akattah', 'Akatu', 'Akd', 'Akdi', 'Aked', 'Akeed', 'Akeodi', 'Aket', 'Akhat', 'Akhwat', 'Akid', 'Akide', 'Akidi', 'Akiet', 'Akihide', 'Akihito', 'Akiode', 'Akit', 'Akita', 'Akite', 'Akiti', 'Akito', 'Akkad', 'Akodu', 'Akoeda', 'Akoetey', 'Akoid', 'Akot', 'Akotia', 'Akoto', 'Akotuah', 'Akouete', 'Aksgd', 'Akshada', 'Akshat', 'Akshata', 'Akshatha', 'Akshit', 'Akshita', 'Akshitha', 'Akt', 'Akta', 'Aktau', 'Akudo', 'Akuetey', 'Akuetteh', 'Akut', 'Akuta', 'Akutey', 'Akuteye', 'Akutu', 'Akwada', 'Akwadaa', 'Akweteh', 'Akwetey', 'Akyedie', 'Akzada', 'Akzat', 'Aqat', 'Aqete', 'Aqid', 'Aqidah', 'As Tai', 'Asaad', 'Asad', 'Asada', 'Asadd', 'Asade', 'Asadey', 'Asadh', 'Asadhu', 'Asadi', 'Asado', 'Asadu', 'Asaed', 'Asahide', 'Asaid', 'Asat', 'Asata', 'Asate', 'Asatewaa', 'Asath', 'Asati', 'Asato', 'Asauto', 'Ascad', 'Ascada', 'Asda', 'Asdaw', 'Asde', 'Asdew', 'Asdi', 'Asdia', 'Asdii', 'Asdy', 'Asead', 'Ased', 'Aseda', 'Asedo', 'Aseed', 'Aseidu', 'Aseidua', 'Aset', 'Asgad', 'Asgat', 'Asgaut', 'Asged', 'Ashaad', 'Ashad', 'Ashade', 'Ashadh', 'Ashadi', 'Ashat', 'Ashath', 'Ashatu', 'Asheeta', 'Ashhaadh', 'Ashhad', 'Ashhadh', 'Ashiat', 'Ashid', 'Ashida', 'Ashiedu', 'Ashietu', 'Ashit', 'Ashita', 'Ashitey', 'Ashitha', 'Ashiyath', 'Ashkt', 'Ashot', 'Ashte', 'Ashtee', 'Ashti', 'Ashtu', 'Ashty', 'Ashwad', 'Ashwath', 'Ashwathi', 'Ashyatt', 'Asiat', 'Asiatou', 'Asiatu', 'Asid', 'Asida', 'Asidaa', 'Asidah', 'Asidu', 'Asiedu', 'Asiedua', 'Asieduaa', 'Asieduwaa', 'Asit', 'Asita', 'Asith', 'Asitha', 'Asiyat', 'Asiyath', 'Asiyathu', 'Asjad', 'Asjdhdhe', 'Asjed', 'Asjid', 'Askat', 'Askhad', 'Askhat', 'Asod', 'Asoda', 'Asode', 'Assaad', 'Assad', 'Assadh', 'Assadi', 'Assaid', 'Assata', 'Assd', 'Assed', 'Asset', 'Asseta', 'Asseto', 'Assetou', 'Asshed', 'Assiata', 'Assiatou', 'Assiatu', 'Assid', 'Assidi', 'Assita', 'Assoudi', 'Assèta', 'Assétou', 'Ast', 'Asta', 'Asta A', 'Aste', 'Asth', 'Astha', 'Asthu', 'Asti', 'Astia', 'Astie', 'Asto', 'Astou', 'Astu', 'Asty', 'Asuda', 'Asude', 'Asutay', 'Asuto', 'Aswad', 'Aswadi', 'Aswat', 'Aswath', 'Aswathi', 'Aswathy', 'Aswati', 'Aswda', 'Aswood', 'Asxad', 'Asxat', 'Asyat', 'Aszódi', 'Aughty', 'Augute', 'Auguto', 'Augutė', 'Auksta', 'Auksyte', 'Aushath', 'Aust', 'Austa', 'Auste', 'Austy', 'Austė', 'Awojide', 'Awsta', 'Awusatu', 'Axad', 'Axat', 'Axit', 'Axittey', 'Aychuth', 'Ayeeshat', 'Ayeshath', 'Ayeshatu', 'Ayisat', 'Ayishat', 'Ayishatu', 'Ayisheitu', 'Ayishetu', 'Ayishtu', 'Aykitu', 'Aykt', 'Aykut', 'Aysad', 'Ayshat', 'Ayshath', 'Ayshatu', 'Aysooda', 'Aysuda', 'Ayzada', 'Ayzat', 'Azaad', 'Azad', 'Azada', 'Azade', 'Azadeh', 'Azadi', 'Azadouhi', 'Azadouhy', 'Azat', 'Azawad', 'Azd', 'Azdi', 'Azdo', 'Azdou', 'Azdy', 'Azed', 'Azedah', 'Azeedah', 'Azeite', 'Azet', 'Azeta', 'Azeteh', 'Azhad', 'Azhadh', 'Azhda', 'Aziati', 'Azid', 'Azida', 'Azidah', 'Azidi', 'Azieda', 'Aziedu', 'Azit', 'Azita', 'Azito', 'Azodo', 'Azoitei', 'Azoud', 'Azutte', 'Azuwadh', 'Azwad', 'Azwadi', 'Azwidowi', 'Azyyati', 'Azzat', 'Azzeht', 'Azzhad', 'Aïchatou', 'Aïsatou', 'Aïssata', 'Aïssatou', 'Aïçhîtä', 'Aš Ta', 'Ašot', 'Àgata', 'Àgota', 'Àsta', 'Ágata', 'Ágatha', 'Ághata', 'Ágota', 'Ágotai', 'Águeda', 'Águida', 'Ásta', 'Ástey', 'Ãsâd', 'Ägidia', 'Ågot', 'Åsta', 'Åste', 'Āśhîťâ', 'Ąishath', 'Ąŋą Ȝêšht', 'Ặßd', 'Ặßdŏ', 'Ặßdŏu'] \n",
            " with the count 534\n"
          ]
        }
      ]
    },
    {
      "cell_type": "code",
      "source": [
        "#d . Levenshtein Distance of the first and last name\n",
        "def levname(firstname, lastname):\n",
        "  lev_dist = jellyfish.levenshtein_distance(firstname, lastname)\n",
        "  print(f\"The Levenshtein Distance of the first name and last name is: {lev_dist}\")"
      ],
      "metadata": {
        "id": "Eg9frctVMRVG"
      },
      "execution_count": 73,
      "outputs": []
    },
    {
      "cell_type": "code",
      "source": [
        "levname('Akshata','Bheemasamudra Mallikarjunappa')"
      ],
      "metadata": {
        "colab": {
          "base_uri": "https://localhost:8080/"
        },
        "id": "aAr_i1X3NS5y",
        "outputId": "0364491c-dd7b-4b90-d5df-59d78d67c1c4"
      },
      "execution_count": 74,
      "outputs": [
        {
          "output_type": "stream",
          "name": "stdout",
          "text": [
            "The Levenshtein Distance of the first name and last name is: 26\n"
          ]
        }
      ]
    }
  ]
}