{
  "nbformat": 4,
  "nbformat_minor": 0,
  "metadata": {
    "colab": {
      "provenance": []
    },
    "kernelspec": {
      "name": "python3",
      "display_name": "Python 3"
    },
    "language_info": {
      "name": "python"
    }
  },
  "cells": [
    {
      "cell_type": "markdown",
      "source": [
        "Name: Akshata Bheemasamudra Mallikarjunappa\n",
        "\n",
        "Student ID: 23164204"
      ],
      "metadata": {
        "id": "csiOV19QxEsf"
      }
    },
    {
      "cell_type": "code",
      "execution_count": 6,
      "metadata": {
        "id": "hgLI4RZY7aOv"
      },
      "outputs": [],
      "source": [
        "from collections import Counter"
      ]
    },
    {
      "cell_type": "code",
      "source": [
        "def naiveBayesClassifier(trainingSet,testSet):\n",
        "  n = len(trainingSet)\n",
        "  megaDocGB = ' '\n",
        "  megaDocIE = ' '\n",
        "  probGB = 0\n",
        "  probIE = 0\n",
        "  GB_BOW = {}\n",
        "  IE_BOW = {}\n",
        "  V = {}\n",
        "\n",
        "  for i in trainingSet:\n",
        "    words, class_ = i[0].split(), i[1]\n",
        "    if class_ == 'GB':\n",
        "      megaDocGB += ' '+\" \".join(words).lower()\n",
        "      probGB += 1\n",
        "      for word in words:\n",
        "        lower_word = word.lower()\n",
        "        if lower_word in GB_BOW:\n",
        "          GB_BOW[lower_word] += 1\n",
        "        else:\n",
        "          GB_BOW[lower_word] = 1\n",
        "        V[lower_word] = V.get(lower_word,0) + 1\n",
        "\n",
        "    if class_ == 'IE':\n",
        "      megaDocIE += ' '+\" \".join(words).lower()\n",
        "      probIE += 1\n",
        "      for word in words:\n",
        "        lower_word = word.lower()\n",
        "        if lower_word in IE_BOW:\n",
        "          IE_BOW[lower_word] += 1\n",
        "        else:\n",
        "          IE_BOW[lower_word] = 1\n",
        "        V[lower_word] = V.get(lower_word,0) + 1\n",
        "\n",
        "  V = Counter(GB_BOW) + Counter(IE_BOW)\n",
        "  print('megaDocGB = ', megaDocGB)\n",
        "  print('megaDocIE = ', megaDocIE)\n",
        "  print('probGB', probGB/n)\n",
        "  print('probIE', probIE/n)\n",
        "  print('V = ',V)\n",
        "  print('|V| = ', len(V))\n",
        "\n",
        "  V_count = len(V)\n",
        "  probGB = probGB / n\n",
        "  probIE = probIE / n\n",
        "\n",
        "  for i in testSet:\n",
        "    list_words = i[0].split()\n",
        "\n",
        "    probGB_max = probGB\n",
        "    probIE_max = probIE\n",
        "\n",
        "    for j in list_words:\n",
        "      lower_word= j.lower()\n",
        "      count_GB = GB_BOW.get(lower_word, 0)\n",
        "      count_IE = IE_BOW.get(lower_word, 0)\n",
        "\n",
        "      wordConditionalProbGB = (count_GB + 1) / (len(megaDocGB.split()) + V_count)\n",
        "      wordConditionalProbIE = (count_IE + 1) / (len(megaDocIE.split()) + V_count)\n",
        "\n",
        "      probGB_max += wordConditionalProbGB\n",
        "      probIE_max += wordConditionalProbIE\n",
        "\n",
        "\n",
        "    prob_total = probGB_max + probIE_max\n",
        "    prob_GB = probGB_max / prob_total\n",
        "    prob_IE = probIE_max / prob_total\n",
        "\n",
        "\n",
        "    if prob_GB > prob_IE:\n",
        "     prediction = 'GB'\n",
        "    else:\n",
        "     prediction =  'IE'\n",
        "    print(f\"{i[0]} -> Predicted class: {prediction}\")\n",
        "    print(f\"Probability GB: {prob_GB:.4f}, Probability IE: {prob_IE:.4f}\\n\")\n",
        "\n"
      ],
      "metadata": {
        "id": "ftY5Hr9SvB83"
      },
      "execution_count": 15,
      "outputs": []
    },
    {
      "cell_type": "code",
      "source": [
        "trainingSet = [('London is the Capital of GB','GB'),('Oxford is a city in GB','GB'),('Dublin is the capital of Ireland','IE'),('Limerick is a city of IE','IE')]\n",
        "testSet = [('University of Limerick','?'),('University College Dublin','?'),('Imperial College London','?'),('University of Oxford','?'),('Ireland & GB','?')]\n",
        "naiveBayesClassifier(trainingSet,testSet)"
      ],
      "metadata": {
        "colab": {
          "base_uri": "https://localhost:8080/"
        },
        "id": "WbMTL-OsAaFR",
        "outputId": "63a1c6c1-7c7a-4bff-9d1d-53090affb46e"
      },
      "execution_count": 16,
      "outputs": [
        {
          "output_type": "stream",
          "name": "stdout",
          "text": [
            "megaDocGB =    london is the capital of gb oxford is a city in gb\n",
            "megaDocIE =    dublin is the capital of ireland limerick is a city of ie\n",
            "probGB 0.5\n",
            "probIE 0.5\n",
            "V =  Counter({'is': 4, 'of': 3, 'the': 2, 'capital': 2, 'gb': 2, 'a': 2, 'city': 2, 'london': 1, 'oxford': 1, 'in': 1, 'dublin': 1, 'ireland': 1, 'limerick': 1, 'ie': 1})\n",
            "|V| =  14\n",
            "University of Limerick -> Predicted class: IE\n",
            "Probability GB: 0.4722, Probability IE: 0.5278\n",
            "\n",
            "University College Dublin -> Predicted class: IE\n",
            "Probability GB: 0.4848, Probability IE: 0.5152\n",
            "\n",
            "Imperial College London -> Predicted class: GB\n",
            "Probability GB: 0.5152, Probability IE: 0.4848\n",
            "\n",
            "University of Oxford -> Predicted class: IE\n",
            "Probability GB: 0.5000, Probability IE: 0.5000\n",
            "\n",
            "Ireland & GB -> Predicted class: GB\n",
            "Probability GB: 0.5143, Probability IE: 0.4857\n",
            "\n"
          ]
        }
      ]
    },
    {
      "cell_type": "code",
      "source": [],
      "metadata": {
        "id": "b38zfI9PEPMK"
      },
      "execution_count": null,
      "outputs": []
    }
  ]
}