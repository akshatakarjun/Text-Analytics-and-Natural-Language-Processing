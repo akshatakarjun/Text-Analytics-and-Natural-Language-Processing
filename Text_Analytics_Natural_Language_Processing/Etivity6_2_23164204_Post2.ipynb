{
  "nbformat": 4,
  "nbformat_minor": 0,
  "metadata": {
    "colab": {
      "provenance": []
    },
    "kernelspec": {
      "name": "python3",
      "display_name": "Python 3"
    },
    "language_info": {
      "name": "python"
    }
  },
  "cells": [
    {
      "cell_type": "markdown",
      "source": [
        "Name: Akshata Bheemasamudra Mallikarjunappa\n",
        "\n",
        "Student ID: 23164204\n",
        "\n",
        "**Improvements:**\n",
        "\n",
        "Task1:\n",
        "\n",
        "1. I had previously used textblob's blob.classify to classify the test data for each document in test data. Upon learning the classifier can be called directly, I got rid of the blob.classify.\n",
        "\n",
        "2. After reviewing Rajesh's notebook, I learnt a new concept of adjusting the space width in print statement using  \"\" .ljust(width) \"\" which I inititally struggled to do in Post 1.\n",
        "\n",
        "Task2:\n",
        "\n",
        "1. Reviewing Rajesh's notebook helped me not to hardcode splitting of training data but instead, to use a ratio of 0.8 while splitting the data into training and testing sets.\n",
        "\n",
        "2. Manually calculated the accuracy in contrast to using accuracy function from textblob.classifiers from Post1.\n",
        "\n",
        "3. Considered the 10-fold cross validation to check the accuracy of model for different variants of training and test data.\n"
      ],
      "metadata": {
        "id": "FB7g6ekrHu9v"
      }
    },
    {
      "cell_type": "markdown",
      "source": [
        "**Task1**"
      ],
      "metadata": {
        "id": "KSfYYq4fWmLA"
      }
    },
    {
      "cell_type": "code",
      "execution_count": 1,
      "metadata": {
        "colab": {
          "base_uri": "https://localhost:8080/"
        },
        "id": "RZ1YJuruHoH2",
        "outputId": "104fdb32-b2c7-428e-bccc-95268de95de1"
      },
      "outputs": [
        {
          "output_type": "stream",
          "name": "stderr",
          "text": [
            "[nltk_data] Downloading package punkt to /root/nltk_data...\n",
            "[nltk_data]   Package punkt is already up-to-date!\n"
          ]
        }
      ],
      "source": [
        "import nltk\n",
        "nltk.download('punkt')\n",
        "from textblob.classifiers import NaiveBayesClassifier\n",
        "from textblob import TextBlob\n",
        "from sklearn.model_selection import KFold\n",
        "import pandas as pd"
      ]
    },
    {
      "cell_type": "code",
      "source": [
        "def naiveBayesClassifier(trainingSet,testSet):\n",
        "  cls = NaiveBayesClassifier(trainingSet)\n",
        "\n",
        "  for i,j in testSet:\n",
        "   doc = cls.classify(i)\n",
        "\n",
        "   print(f'Document : ({i},{j})'.ljust(50), f' predicted class: {doc}\\n')\n",
        "\n",
        "   accuracy = cls.accuracy(testSet)\n",
        "\n",
        "  print(f'Accuracy: {accuracy}')"
      ],
      "metadata": {
        "id": "_VRhgwDdIA8s"
      },
      "execution_count": 2,
      "outputs": []
    },
    {
      "cell_type": "code",
      "source": [
        "trainingSet = [(\"London is the Capital of GB\", \"GB\"), (\"Oxford is a city in GB\",\"GB\"), (\"Dublin is the capital of Ireland\", \"IE\"), (\"Limerick is a city in Ireland\", \"IE\")]\n",
        "testSet = [(\"University of Limerick\",\"IE\"),(\"University College Dublin\",\"IE\"),(\"Imperial College London\",\"GB\"),(\"University of Oxford\",\"GB\"),(\"Ireland & GB\",\"GB\")]\n",
        "naiveBayesClassifier(trainingSet, testSet)"
      ],
      "metadata": {
        "colab": {
          "base_uri": "https://localhost:8080/"
        },
        "id": "4Jl6qogPIYWG",
        "outputId": "431e153c-4848-457a-ed42-28cc1c405be5"
      },
      "execution_count": 3,
      "outputs": [
        {
          "output_type": "stream",
          "name": "stdout",
          "text": [
            "Document : (University of Limerick,IE)              predicted class: IE\n",
            "\n",
            "Document : (University College Dublin,IE)           predicted class: IE\n",
            "\n",
            "Document : (Imperial College London,GB)             predicted class: GB\n",
            "\n",
            "Document : (University of Oxford,GB)                predicted class: GB\n",
            "\n",
            "Document : (Ireland & GB,GB)                        predicted class: IE\n",
            "\n",
            "Accuracy: 0.8\n"
          ]
        }
      ]
    },
    {
      "cell_type": "markdown",
      "source": [
        "**Task2**"
      ],
      "metadata": {
        "id": "Wa75qEssNqXs"
      }
    },
    {
      "cell_type": "code",
      "source": [
        "\n",
        "!wget https://storage.googleapis.com/dataset-uploader/bbc/bbc-text.csv"
      ],
      "metadata": {
        "colab": {
          "base_uri": "https://localhost:8080/"
        },
        "id": "HzF_3gZdNr79",
        "outputId": "9dc0f479-0557-48d3-da19-ec4e8b8e6fea"
      },
      "execution_count": 4,
      "outputs": [
        {
          "output_type": "stream",
          "name": "stdout",
          "text": [
            "--2023-12-02 14:32:06--  https://storage.googleapis.com/dataset-uploader/bbc/bbc-text.csv\n",
            "Resolving storage.googleapis.com (storage.googleapis.com)... 142.251.111.207, 142.251.16.207, 172.253.62.207, ...\n",
            "Connecting to storage.googleapis.com (storage.googleapis.com)|142.251.111.207|:443... connected.\n",
            "HTTP request sent, awaiting response... 200 OK\n",
            "Length: 5057493 (4.8M) [text/csv]\n",
            "Saving to: ‘bbc-text.csv.4’\n",
            "\n",
            "\rbbc-text.csv.4        0%[                    ]       0  --.-KB/s               \rbbc-text.csv.4      100%[===================>]   4.82M  --.-KB/s    in 0.03s   \n",
            "\n",
            "2023-12-02 14:32:06 (153 MB/s) - ‘bbc-text.csv.4’ saved [5057493/5057493]\n",
            "\n"
          ]
        }
      ]
    },
    {
      "cell_type": "code",
      "source": [
        "df = pd.read_csv('bbc-text.csv', delimiter = ',')\n",
        "df.head(5)"
      ],
      "metadata": {
        "colab": {
          "base_uri": "https://localhost:8080/",
          "height": 206
        },
        "id": "LuueSpNuUhg3",
        "outputId": "b1e54060-c361-40f8-fa2d-56c3049b8812"
      },
      "execution_count": 5,
      "outputs": [
        {
          "output_type": "execute_result",
          "data": {
            "text/plain": [
              "        category                                               text\n",
              "0           tech  tv future in the hands of viewers with home th...\n",
              "1       business  worldcom boss  left books alone  former worldc...\n",
              "2          sport  tigers wary of farrell  gamble  leicester say ...\n",
              "3          sport  yeading face newcastle in fa cup premiership s...\n",
              "4  entertainment  ocean s twelve raids box office ocean s twelve..."
            ],
            "text/html": [
              "\n",
              "  <div id=\"df-0531f21f-839b-411e-8260-afa298b776a8\" class=\"colab-df-container\">\n",
              "    <div>\n",
              "<style scoped>\n",
              "    .dataframe tbody tr th:only-of-type {\n",
              "        vertical-align: middle;\n",
              "    }\n",
              "\n",
              "    .dataframe tbody tr th {\n",
              "        vertical-align: top;\n",
              "    }\n",
              "\n",
              "    .dataframe thead th {\n",
              "        text-align: right;\n",
              "    }\n",
              "</style>\n",
              "<table border=\"1\" class=\"dataframe\">\n",
              "  <thead>\n",
              "    <tr style=\"text-align: right;\">\n",
              "      <th></th>\n",
              "      <th>category</th>\n",
              "      <th>text</th>\n",
              "    </tr>\n",
              "  </thead>\n",
              "  <tbody>\n",
              "    <tr>\n",
              "      <th>0</th>\n",
              "      <td>tech</td>\n",
              "      <td>tv future in the hands of viewers with home th...</td>\n",
              "    </tr>\n",
              "    <tr>\n",
              "      <th>1</th>\n",
              "      <td>business</td>\n",
              "      <td>worldcom boss  left books alone  former worldc...</td>\n",
              "    </tr>\n",
              "    <tr>\n",
              "      <th>2</th>\n",
              "      <td>sport</td>\n",
              "      <td>tigers wary of farrell  gamble  leicester say ...</td>\n",
              "    </tr>\n",
              "    <tr>\n",
              "      <th>3</th>\n",
              "      <td>sport</td>\n",
              "      <td>yeading face newcastle in fa cup premiership s...</td>\n",
              "    </tr>\n",
              "    <tr>\n",
              "      <th>4</th>\n",
              "      <td>entertainment</td>\n",
              "      <td>ocean s twelve raids box office ocean s twelve...</td>\n",
              "    </tr>\n",
              "  </tbody>\n",
              "</table>\n",
              "</div>\n",
              "    <div class=\"colab-df-buttons\">\n",
              "\n",
              "  <div class=\"colab-df-container\">\n",
              "    <button class=\"colab-df-convert\" onclick=\"convertToInteractive('df-0531f21f-839b-411e-8260-afa298b776a8')\"\n",
              "            title=\"Convert this dataframe to an interactive table.\"\n",
              "            style=\"display:none;\">\n",
              "\n",
              "  <svg xmlns=\"http://www.w3.org/2000/svg\" height=\"24px\" viewBox=\"0 -960 960 960\">\n",
              "    <path d=\"M120-120v-720h720v720H120Zm60-500h600v-160H180v160Zm220 220h160v-160H400v160Zm0 220h160v-160H400v160ZM180-400h160v-160H180v160Zm440 0h160v-160H620v160ZM180-180h160v-160H180v160Zm440 0h160v-160H620v160Z\"/>\n",
              "  </svg>\n",
              "    </button>\n",
              "\n",
              "  <style>\n",
              "    .colab-df-container {\n",
              "      display:flex;\n",
              "      gap: 12px;\n",
              "    }\n",
              "\n",
              "    .colab-df-convert {\n",
              "      background-color: #E8F0FE;\n",
              "      border: none;\n",
              "      border-radius: 50%;\n",
              "      cursor: pointer;\n",
              "      display: none;\n",
              "      fill: #1967D2;\n",
              "      height: 32px;\n",
              "      padding: 0 0 0 0;\n",
              "      width: 32px;\n",
              "    }\n",
              "\n",
              "    .colab-df-convert:hover {\n",
              "      background-color: #E2EBFA;\n",
              "      box-shadow: 0px 1px 2px rgba(60, 64, 67, 0.3), 0px 1px 3px 1px rgba(60, 64, 67, 0.15);\n",
              "      fill: #174EA6;\n",
              "    }\n",
              "\n",
              "    .colab-df-buttons div {\n",
              "      margin-bottom: 4px;\n",
              "    }\n",
              "\n",
              "    [theme=dark] .colab-df-convert {\n",
              "      background-color: #3B4455;\n",
              "      fill: #D2E3FC;\n",
              "    }\n",
              "\n",
              "    [theme=dark] .colab-df-convert:hover {\n",
              "      background-color: #434B5C;\n",
              "      box-shadow: 0px 1px 3px 1px rgba(0, 0, 0, 0.15);\n",
              "      filter: drop-shadow(0px 1px 2px rgba(0, 0, 0, 0.3));\n",
              "      fill: #FFFFFF;\n",
              "    }\n",
              "  </style>\n",
              "\n",
              "    <script>\n",
              "      const buttonEl =\n",
              "        document.querySelector('#df-0531f21f-839b-411e-8260-afa298b776a8 button.colab-df-convert');\n",
              "      buttonEl.style.display =\n",
              "        google.colab.kernel.accessAllowed ? 'block' : 'none';\n",
              "\n",
              "      async function convertToInteractive(key) {\n",
              "        const element = document.querySelector('#df-0531f21f-839b-411e-8260-afa298b776a8');\n",
              "        const dataTable =\n",
              "          await google.colab.kernel.invokeFunction('convertToInteractive',\n",
              "                                                    [key], {});\n",
              "        if (!dataTable) return;\n",
              "\n",
              "        const docLinkHtml = 'Like what you see? Visit the ' +\n",
              "          '<a target=\"_blank\" href=https://colab.research.google.com/notebooks/data_table.ipynb>data table notebook</a>'\n",
              "          + ' to learn more about interactive tables.';\n",
              "        element.innerHTML = '';\n",
              "        dataTable['output_type'] = 'display_data';\n",
              "        await google.colab.output.renderOutput(dataTable, element);\n",
              "        const docLink = document.createElement('div');\n",
              "        docLink.innerHTML = docLinkHtml;\n",
              "        element.appendChild(docLink);\n",
              "      }\n",
              "    </script>\n",
              "  </div>\n",
              "\n",
              "\n",
              "<div id=\"df-bda169df-0077-4320-a053-edc9f01524b8\">\n",
              "  <button class=\"colab-df-quickchart\" onclick=\"quickchart('df-bda169df-0077-4320-a053-edc9f01524b8')\"\n",
              "            title=\"Suggest charts\"\n",
              "            style=\"display:none;\">\n",
              "\n",
              "<svg xmlns=\"http://www.w3.org/2000/svg\" height=\"24px\"viewBox=\"0 0 24 24\"\n",
              "     width=\"24px\">\n",
              "    <g>\n",
              "        <path d=\"M19 3H5c-1.1 0-2 .9-2 2v14c0 1.1.9 2 2 2h14c1.1 0 2-.9 2-2V5c0-1.1-.9-2-2-2zM9 17H7v-7h2v7zm4 0h-2V7h2v10zm4 0h-2v-4h2v4z\"/>\n",
              "    </g>\n",
              "</svg>\n",
              "  </button>\n",
              "\n",
              "<style>\n",
              "  .colab-df-quickchart {\n",
              "      --bg-color: #E8F0FE;\n",
              "      --fill-color: #1967D2;\n",
              "      --hover-bg-color: #E2EBFA;\n",
              "      --hover-fill-color: #174EA6;\n",
              "      --disabled-fill-color: #AAA;\n",
              "      --disabled-bg-color: #DDD;\n",
              "  }\n",
              "\n",
              "  [theme=dark] .colab-df-quickchart {\n",
              "      --bg-color: #3B4455;\n",
              "      --fill-color: #D2E3FC;\n",
              "      --hover-bg-color: #434B5C;\n",
              "      --hover-fill-color: #FFFFFF;\n",
              "      --disabled-bg-color: #3B4455;\n",
              "      --disabled-fill-color: #666;\n",
              "  }\n",
              "\n",
              "  .colab-df-quickchart {\n",
              "    background-color: var(--bg-color);\n",
              "    border: none;\n",
              "    border-radius: 50%;\n",
              "    cursor: pointer;\n",
              "    display: none;\n",
              "    fill: var(--fill-color);\n",
              "    height: 32px;\n",
              "    padding: 0;\n",
              "    width: 32px;\n",
              "  }\n",
              "\n",
              "  .colab-df-quickchart:hover {\n",
              "    background-color: var(--hover-bg-color);\n",
              "    box-shadow: 0 1px 2px rgba(60, 64, 67, 0.3), 0 1px 3px 1px rgba(60, 64, 67, 0.15);\n",
              "    fill: var(--button-hover-fill-color);\n",
              "  }\n",
              "\n",
              "  .colab-df-quickchart-complete:disabled,\n",
              "  .colab-df-quickchart-complete:disabled:hover {\n",
              "    background-color: var(--disabled-bg-color);\n",
              "    fill: var(--disabled-fill-color);\n",
              "    box-shadow: none;\n",
              "  }\n",
              "\n",
              "  .colab-df-spinner {\n",
              "    border: 2px solid var(--fill-color);\n",
              "    border-color: transparent;\n",
              "    border-bottom-color: var(--fill-color);\n",
              "    animation:\n",
              "      spin 1s steps(1) infinite;\n",
              "  }\n",
              "\n",
              "  @keyframes spin {\n",
              "    0% {\n",
              "      border-color: transparent;\n",
              "      border-bottom-color: var(--fill-color);\n",
              "      border-left-color: var(--fill-color);\n",
              "    }\n",
              "    20% {\n",
              "      border-color: transparent;\n",
              "      border-left-color: var(--fill-color);\n",
              "      border-top-color: var(--fill-color);\n",
              "    }\n",
              "    30% {\n",
              "      border-color: transparent;\n",
              "      border-left-color: var(--fill-color);\n",
              "      border-top-color: var(--fill-color);\n",
              "      border-right-color: var(--fill-color);\n",
              "    }\n",
              "    40% {\n",
              "      border-color: transparent;\n",
              "      border-right-color: var(--fill-color);\n",
              "      border-top-color: var(--fill-color);\n",
              "    }\n",
              "    60% {\n",
              "      border-color: transparent;\n",
              "      border-right-color: var(--fill-color);\n",
              "    }\n",
              "    80% {\n",
              "      border-color: transparent;\n",
              "      border-right-color: var(--fill-color);\n",
              "      border-bottom-color: var(--fill-color);\n",
              "    }\n",
              "    90% {\n",
              "      border-color: transparent;\n",
              "      border-bottom-color: var(--fill-color);\n",
              "    }\n",
              "  }\n",
              "</style>\n",
              "\n",
              "  <script>\n",
              "    async function quickchart(key) {\n",
              "      const quickchartButtonEl =\n",
              "        document.querySelector('#' + key + ' button');\n",
              "      quickchartButtonEl.disabled = true;  // To prevent multiple clicks.\n",
              "      quickchartButtonEl.classList.add('colab-df-spinner');\n",
              "      try {\n",
              "        const charts = await google.colab.kernel.invokeFunction(\n",
              "            'suggestCharts', [key], {});\n",
              "      } catch (error) {\n",
              "        console.error('Error during call to suggestCharts:', error);\n",
              "      }\n",
              "      quickchartButtonEl.classList.remove('colab-df-spinner');\n",
              "      quickchartButtonEl.classList.add('colab-df-quickchart-complete');\n",
              "    }\n",
              "    (() => {\n",
              "      let quickchartButtonEl =\n",
              "        document.querySelector('#df-bda169df-0077-4320-a053-edc9f01524b8 button');\n",
              "      quickchartButtonEl.style.display =\n",
              "        google.colab.kernel.accessAllowed ? 'block' : 'none';\n",
              "    })();\n",
              "  </script>\n",
              "</div>\n",
              "    </div>\n",
              "  </div>\n"
            ]
          },
          "metadata": {},
          "execution_count": 5
        }
      ]
    },
    {
      "cell_type": "code",
      "source": [
        "print(df.sample(5))\n",
        "print('----------------------------------------------------')\n",
        "print(f'\\n Number of documents {len(df)}')\n",
        "print('----------------------------------------------------')\n",
        "cat_count = df['category'].value_counts()\n",
        "print(f'Documents per category\\n{cat_count}')\n",
        "print('----------------------------------------------------')\n",
        "training_data = df.loc[:int(len(df)*0.80),:]\n",
        "print(f\"train size: {len(training_data)}\")\n",
        "print('----------------------------------------------------')\n",
        "print(f'training set samples: \\n {training_data.sample(5)}')\n",
        "print('----------------------------------------------------')\n",
        "testing_data = df.loc[int(len(df)*0.80):,:]\n",
        "print(f\"test size: {len(testing_data)}\")\n",
        "print('----------------------------------------------------')\n",
        "print(f'training set samples: \\n {testing_data.sample(5)}')"
      ],
      "metadata": {
        "colab": {
          "base_uri": "https://localhost:8080/"
        },
        "id": "TXAuX4a6UnN5",
        "outputId": "5edb5401-36f1-43bf-9f20-26bac7f2736c"
      },
      "execution_count": 6,
      "outputs": [
        {
          "output_type": "stream",
          "name": "stdout",
          "text": [
            "           category                                               text\n",
            "1121           tech  playstation 3 processor unveiled the cell proc...\n",
            "976           sport  radcliffe proves doubters wrong this won t go ...\n",
            "1595  entertainment  no charges against tv s cosby us comedian bill...\n",
            "564           sport  dawson set for new wasps contract european cha...\n",
            "1463           tech  digital guru floats sub-$100 pc nicholas negro...\n",
            "----------------------------------------------------\n",
            "\n",
            " Number of documents 2225\n",
            "----------------------------------------------------\n",
            "Documents per category\n",
            "sport            511\n",
            "business         510\n",
            "politics         417\n",
            "tech             401\n",
            "entertainment    386\n",
            "Name: category, dtype: int64\n",
            "----------------------------------------------------\n",
            "train size: 1781\n",
            "----------------------------------------------------\n",
            "training set samples: \n",
            "       category                                               text\n",
            "1497  politics  lib dems unveil election slogan the liberal de...\n",
            "255   politics  mps criticise child access system divorced par...\n",
            "1579      tech  voters flock to blog awards site voting is und...\n",
            "279      sport  paris promise raises welsh hopes has there bee...\n",
            "378       tech  parents face video game lessons ways of ensuri...\n",
            "----------------------------------------------------\n",
            "test size: 445\n",
            "----------------------------------------------------\n",
            "training set samples: \n",
            "       category                                               text\n",
            "1785      tech  ultimate game  award for doom 3 sci-fi shooter...\n",
            "2129  business  strong dollar  call halts slide the us dollar ...\n",
            "2050  business  novartis hits acquisition trail swiss drugmake...\n",
            "1883     sport  tottenham bid &#163;8m for forest duo nottingh...\n",
            "1830      tech  tough rules for ringtone sellers firms that fl...\n"
          ]
        }
      ]
    },
    {
      "cell_type": "code",
      "source": [
        "training_data = [(text, category) for text, category in zip(training_data['text'], training_data['category'])]\n",
        "testing_data = [(text, category) for text, category in zip(testing_data['text'], testing_data['category'])]"
      ],
      "metadata": {
        "id": "qZNOUxfaV5e9"
      },
      "execution_count": 7,
      "outputs": []
    },
    {
      "cell_type": "code",
      "source": [
        "classifier = NaiveBayesClassifier(training_data)\n",
        "\n",
        "predictions = [1 if classifier.classify(text) == category else 0 for text,category in testing_data]\n",
        "accuracy = sum(predictions)/len(predictions)\n",
        "print(accuracy)"
      ],
      "metadata": {
        "colab": {
          "base_uri": "https://localhost:8080/"
        },
        "id": "LyU1LbT8zncn",
        "outputId": "bf2b3189-6acc-4a2f-c466-da3ff62c3e58"
      },
      "execution_count": 12,
      "outputs": [
        {
          "output_type": "stream",
          "name": "stdout",
          "text": [
            "0.9707865168539326\n"
          ]
        }
      ]
    },
    {
      "cell_type": "markdown",
      "source": [
        "**10-fold cross-validation**"
      ],
      "metadata": {
        "id": "wsRw_qdOtST2"
      }
    },
    {
      "cell_type": "code",
      "source": [
        "all_data = training_data + testing_data\n",
        "all_data = all_data[0:1001]"
      ],
      "metadata": {
        "id": "kf0szgTPzZi3"
      },
      "execution_count": 14,
      "outputs": []
    },
    {
      "cell_type": "code",
      "source": [
        "kfold = KFold(n_splits = 10,shuffle = True, random_state = 42)"
      ],
      "metadata": {
        "id": "unNw6-U4261g"
      },
      "execution_count": 15,
      "outputs": []
    },
    {
      "cell_type": "code",
      "source": [
        "accuracies = []\n",
        "for i, (train_index, test_index) in enumerate(kfold.split(all_data)):\n",
        "\n",
        "    train_set = [all_data[i] for i in train_index]\n",
        "    test_set = [all_data[i] for i in test_index]\n",
        "\n",
        "\n",
        "    classifier = NaiveBayesClassifier(train_set)\n",
        "\n",
        "\n",
        "    accuracy = sum([1 if classifier.classify(text) == category else 0 for text, category in test_set]) / len(test_set)\n",
        "    print(f'fold {i} accuracy = {accuracy}')\n",
        "    accuracies.append(accuracy)"
      ],
      "metadata": {
        "colab": {
          "base_uri": "https://localhost:8080/"
        },
        "id": "WgWB6tuvzZlL",
        "outputId": "82e72dc5-b0e5-45cd-9ad4-658e4f2c26a9"
      },
      "execution_count": 16,
      "outputs": [
        {
          "output_type": "stream",
          "name": "stdout",
          "text": [
            "fold 0 accuracy = 0.9504950495049505\n",
            "fold 1 accuracy = 0.92\n",
            "fold 2 accuracy = 0.93\n",
            "fold 3 accuracy = 0.98\n",
            "fold 4 accuracy = 0.99\n",
            "fold 5 accuracy = 0.96\n",
            "fold 6 accuracy = 0.95\n",
            "fold 7 accuracy = 0.91\n",
            "fold 8 accuracy = 0.92\n",
            "fold 9 accuracy = 0.96\n"
          ]
        }
      ]
    },
    {
      "cell_type": "code",
      "source": [
        "average_accuracy = sum(accuracies) / len(accuracies)\n",
        "print(\"Average 10-fold cross-validation accuracy:\", average_accuracy)"
      ],
      "metadata": {
        "colab": {
          "base_uri": "https://localhost:8080/"
        },
        "id": "Im7Z3aTIzZoz",
        "outputId": "6ebbdd9b-3b37-4363-abce-5c10e1e3d63e"
      },
      "execution_count": 17,
      "outputs": [
        {
          "output_type": "stream",
          "name": "stdout",
          "text": [
            "Average 10-fold cross-validation accuracy: 0.9470495049504951\n"
          ]
        }
      ]
    },
    {
      "cell_type": "code",
      "source": [],
      "metadata": {
        "id": "NzigHExPaxGT"
      },
      "execution_count": 4,
      "outputs": []
    },
    {
      "cell_type": "code",
      "source": [
        "\n",
        "\n",
        "# for i, (train_index, test_index) in enumerate(kfold.split(df['text'],df['category'])):\n",
        "#    print(f\"Fold {i}:\")\n",
        "#    print(f\"  Train: index={train_index}\")\n",
        "#    print(f\"  Test:  index={test_index}\")"
      ],
      "metadata": {
        "colab": {
          "base_uri": "https://localhost:8080/"
        },
        "id": "GYpEahyhvu-j",
        "outputId": "af5064ee-3d74-456f-ceaa-d73c5dbb34f7"
      },
      "execution_count": 22,
      "outputs": [
        {
          "output_type": "stream",
          "name": "stdout",
          "text": [
            "Fold 0:\n",
            "  Train: index=[   0    1    2 ... 2222 2223 2224]\n",
            "  Test:  index=[  18   25   29   44   51   67   69   70   73   96  100  109  111  128\n",
            "  134  135  168  179  184  192  196  218  231  233  240  247  254  275\n",
            "  290  297  298  303  307  321  324  332  350  353  360  361  366  368\n",
            "  374  382  383  402  406  409  414  416  420  422  423  426  438  478\n",
            "  480  482  514  519  527  528  529  535  544  548  552  554  555  564\n",
            "  571  582  585  602  613  617  618  629  636  637  643  650  651  677\n",
            "  678  679  686  700  742  771  780  781  787  812  831  845  849  856\n",
            "  862  869  892  905  929  937  941  942  962  963  973  976  986  990\n",
            " 1004 1040 1041 1043 1057 1064 1068 1085 1100 1113 1128 1132 1151 1175\n",
            " 1177 1181 1185 1193 1204 1232 1233 1264 1269 1270 1287 1317 1320 1341\n",
            " 1349 1359 1366 1368 1375 1379 1381 1386 1404 1405 1414 1419 1423 1433\n",
            " 1435 1449 1468 1480 1481 1491 1501 1506 1510 1514 1533 1544 1545 1551\n",
            " 1552 1582 1618 1622 1644 1702 1710 1716 1730 1737 1746 1748 1756 1763\n",
            " 1798 1807 1809 1820 1829 1832 1850 1854 1855 1860 1862 1876 1885 1897\n",
            " 1918 1925 1933 1942 1944 1948 1987 1995 2024 2025 2040 2044 2071 2073\n",
            " 2093 2110 2111 2118 2129 2156 2175 2185 2192 2201 2202 2216 2220]\n",
            "Fold 1:\n",
            "  Train: index=[   0    1    2 ... 2221 2223 2224]\n",
            "  Test:  index=[  13   48   56   63   65   76   99  105  115  120  121  124  163  178\n",
            "  185  188  203  205  210  211  212  219  220  230  237  239  251  259\n",
            "  281  282  289  296  299  306  316  342  351  354  367  387  408  410\n",
            "  430  432  433  435  445  450  464  471  479  485  486  494  495  507\n",
            "  508  532  543  588  590  620  621  632  647  668  674  694  695  715\n",
            "  719  729  736  741  759  765  792  808  809  816  817  836  841  874\n",
            "  888  891  903  923  931  932  944  949  952  964  974  979  999 1000\n",
            " 1001 1018 1025 1029 1034 1044 1053 1055 1067 1080 1084 1102 1104 1111\n",
            " 1133 1200 1207 1208 1216 1225 1231 1237 1247 1251 1258 1284 1285 1302\n",
            " 1314 1319 1335 1338 1351 1361 1370 1383 1391 1412 1436 1437 1469 1476\n",
            " 1483 1487 1488 1489 1490 1493 1499 1511 1517 1518 1531 1532 1543 1557\n",
            " 1584 1591 1593 1599 1601 1628 1637 1652 1666 1667 1670 1671 1672 1680\n",
            " 1708 1717 1742 1755 1760 1764 1771 1781 1784 1790 1797 1805 1827 1830\n",
            " 1831 1868 1869 1889 1903 1907 1924 1932 1950 1980 1984 1985 1993 2008\n",
            " 2010 2017 2032 2033 2045 2049 2052 2060 2063 2066 2089 2101 2116 2120\n",
            " 2128 2141 2146 2149 2158 2179 2183 2191 2193 2208 2211 2212 2222]\n",
            "Fold 2:\n",
            "  Train: index=[   0    1    2 ... 2221 2222 2224]\n",
            "  Test:  index=[  20   23   30   32   39   45   49   59   71   78   83   91  123  162\n",
            "  173  174  175  194  198  209  221  256  261  266  270  294  300  305\n",
            "  308  315  322  331  344  352  365  381  393  394  411  427  429  436\n",
            "  440  447  453  458  461  462  463  483  530  534  538  556  561  567\n",
            "  572  579  581  583  596  599  601  605  610  611  630  634  649  670\n",
            "  693  705  707  727  744  746  752  755  756  764  767  772  782  785\n",
            "  788  819  829  838  839  840  855  857  859  861  867  889  906  916\n",
            "  925  926  930  940  948  965  988  994  997 1005 1027 1033 1075 1107\n",
            " 1114 1116 1121 1124 1134 1138 1157 1163 1170 1176 1178 1179 1189 1190\n",
            " 1192 1202 1220 1249 1255 1261 1263 1272 1283 1286 1298 1299 1307 1310\n",
            " 1336 1337 1342 1362 1382 1402 1447 1451 1494 1523 1553 1555 1559 1572\n",
            " 1573 1576 1586 1594 1608 1617 1640 1647 1656 1669 1674 1677 1697 1703\n",
            " 1709 1711 1712 1714 1727 1732 1736 1761 1762 1793 1826 1840 1856 1859\n",
            " 1872 1878 1882 1883 1887 1896 1898 1904 1911 1920 1927 1931 1945 1953\n",
            " 1960 1972 1979 1994 2001 2003 2020 2053 2067 2074 2076 2081 2084 2085\n",
            " 2087 2092 2098 2117 2137 2147 2151 2170 2188 2196 2205 2214 2223]\n",
            "Fold 3:\n",
            "  Train: index=[   0    1    3 ... 2222 2223 2224]\n",
            "  Test:  index=[   2   15   41   43   72  101  107  136  141  148  158  167  170  182\n",
            "  187  199  222  226  244  250  265  271  272  273  274  286  291  292\n",
            "  309  310  311  318  334  339  343  371  376  377  398  405  413  415\n",
            "  425  439  465  481  497  500  506  518  526  557  570  575  576  584\n",
            "  591  593  598  607  614  619  628  654  680  692  701  704  710  712\n",
            "  721  730  743  748  786  798  806  807  810  818  865  873  879  886\n",
            "  893  900  907  981  985  993  998 1010 1017 1022 1036 1050 1061 1073\n",
            " 1083 1086 1090 1091 1105 1106 1110 1117 1125 1137 1146 1165 1182 1187\n",
            " 1194 1196 1210 1211 1221 1226 1228 1244 1245 1271 1290 1301 1332 1333\n",
            " 1334 1345 1364 1378 1387 1394 1397 1406 1422 1460 1466 1471 1477 1502\n",
            " 1505 1509 1538 1547 1549 1558 1560 1561 1566 1577 1578 1580 1581 1590\n",
            " 1596 1605 1606 1607 1609 1610 1611 1613 1623 1626 1633 1639 1665 1668\n",
            " 1673 1681 1691 1699 1701 1706 1713 1725 1728 1735 1738 1744 1752 1753\n",
            " 1776 1811 1849 1888 1893 1894 1909 1915 1926 1938 1954 1961 1967 1970\n",
            " 1974 1975 1988 2000 2002 2009 2031 2036 2043 2046 2055 2056 2090 2100\n",
            " 2107 2108 2134 2136 2142 2153 2154 2155 2159 2187 2210 2213 2218]\n",
            "Fold 4:\n",
            "  Train: index=[   0    1    2 ... 2222 2223 2224]\n",
            "  Test:  index=[   6   31   54   58   81   84   86   87  113  118  126  140  147  155\n",
            "  164  177  181  208  214  236  243  277  285  287  312  326  327  329\n",
            "  341  346  348  355  358  363  370  380  385  428  442  451  457  468\n",
            "  490  493  505  513  520  522  551  560  566  589  592  609  631  642\n",
            "  660  669  672  682  706  711  720  722  733  745  757  774  777  778\n",
            "  802  813  824  832  834  881  887  904  909  914  915  921  936  938\n",
            "  939  943  951  966  968  978  982  984  987 1007 1009 1013 1023 1037\n",
            " 1047 1052 1054 1058 1071 1078 1087 1089 1094 1103 1112 1131 1159 1161\n",
            " 1164 1173 1198 1222 1229 1234 1242 1248 1266 1268 1281 1288 1289 1303\n",
            " 1309 1313 1315 1322 1323 1330 1340 1347 1352 1355 1374 1389 1395 1421\n",
            " 1429 1430 1441 1442 1446 1448 1455 1456 1462 1467 1472 1475 1503 1525\n",
            " 1526 1530 1536 1554 1564 1569 1592 1598 1614 1616 1642 1645 1650 1651\n",
            " 1653 1659 1676 1683 1684 1723 1731 1740 1741 1745 1765 1767 1770 1783\n",
            " 1785 1792 1795 1801 1814 1817 1821 1835 1838 1858 1861 1865 1866 1890\n",
            " 1891 1901 1905 1908 1916 1921 1937 1952 1956 1977 1983 1999 2015 2028\n",
            " 2030 2048 2057 2058 2095 2130 2138 2143 2144 2172 2173 2200 2203]\n",
            "Fold 5:\n",
            "  Train: index=[   0    1    2 ... 2222 2223 2224]\n",
            "  Test:  index=[   3    5    7   10   12   14   24   27   47   55   60   66   77   85\n",
            "   88   92  106  112  129  131  138  139  142  144  156  171  193  195\n",
            "  213  215  224  227  228  232  238  242  258  260  269  276  288  295\n",
            "  302  314  319  323  325  328  333  336  349  362  364  375  390  401\n",
            "  419  421  424  467  477  484  503  516  523  525  531  533  536  542\n",
            "  547  549  553  558  573  578  594  597  603  615  622  624  626  638\n",
            "  644  645  661  664  665  691  714  718  723  724  725  754  776  793\n",
            "  799  803  811  820  842  843  844  846  864  897  898  901  910  917\n",
            "  922  946  950 1006 1026 1030 1049 1063 1074 1079 1096 1118 1120 1144\n",
            " 1160 1169 1223 1235 1239 1241 1254 1259 1273 1278 1280 1292 1293 1304\n",
            " 1316 1318 1344 1356 1357 1380 1385 1393 1403 1410 1411 1413 1418 1420\n",
            " 1424 1426 1427 1452 1453 1454 1459 1463 1465 1508 1521 1562 1565 1567\n",
            " 1574 1602 1604 1612 1619 1620 1621 1641 1655 1657 1689 1694 1718 1719\n",
            " 1739 1766 1772 1777 1791 1812 1818 1824 1825 1842 1847 1851 1870 1877\n",
            " 1910 1914 1922 1947 1949 1963 1968 1989 2022 2026 2037 2059 2065 2069\n",
            " 2075 2082 2091 2106 2113 2125 2126 2127 2132 2190 2195 2204]\n",
            "Fold 6:\n",
            "  Train: index=[   1    2    3 ... 2222 2223 2224]\n",
            "  Test:  index=[   0    9   33   38   40   42   52   57   62   68   74   79   80   82\n",
            "   90   94   97  102  104  110  117  125  132  133  137  145  165  166\n",
            "  172  183  204  223  235  248  249  255  267  280  347  357  359  372\n",
            "  373  384  386  388  389  404  434  446  448  449  460  475  501  504\n",
            "  539  541  545  577  652  666  667  671  673  676  688  697  708  713\n",
            "  716  731  735  737  739  751  762  770  783  796  805  814  823  826\n",
            "  828  847  852  858  868  875  882  885  894  899  908  918  924  933\n",
            "  958  967  970  983  989 1024 1031 1035 1046 1088 1093 1101 1108 1140\n",
            " 1142 1145 1149 1168 1172 1201 1205 1206 1214 1224 1230 1236 1240 1252\n",
            " 1262 1265 1274 1305 1326 1328 1329 1331 1339 1343 1353 1358 1360 1371\n",
            " 1376 1384 1401 1425 1428 1431 1432 1444 1457 1461 1464 1473 1474 1486\n",
            " 1512 1513 1537 1541 1546 1550 1556 1563 1575 1583 1615 1629 1646 1658\n",
            " 1660 1690 1720 1724 1750 1754 1769 1773 1779 1786 1788 1800 1804 1808\n",
            " 1822 1837 1844 1845 1846 1864 1873 1874 1879 1912 1913 1928 1934 1935\n",
            " 1941 1957 1958 1962 2018 2021 2029 2035 2042 2050 2064 2083 2094 2096\n",
            " 2119 2133 2145 2150 2161 2167 2168 2189 2194 2198 2215 2221]\n",
            "Fold 7:\n",
            "  Train: index=[   0    1    2 ... 2221 2222 2223]\n",
            "  Test:  index=[  11   22   28   36   61   75   89   93  108  114  153  159  169  176\n",
            "  191  216  217  234  246  257  264  278  284  335  338  340  356  395\n",
            "  396  412  417  431  441  444  454  456  473  487  491  498  499  510\n",
            "  512  515  521  559  568  580  587  595  604  616  633  657  662  675\n",
            "  689  690  696  703  717  728  732  734  738  750  753  760  761  768\n",
            "  789  794  801  825  848  850  851  872  884  890  895  911  912  919\n",
            "  934  945  947  953  957  969  977  996 1008 1011 1015 1032 1039 1042\n",
            " 1048 1065 1066 1070 1092 1097 1098 1099 1109 1119 1123 1141 1155 1156\n",
            " 1167 1174 1188 1191 1197 1203 1209 1212 1217 1227 1246 1253 1260 1276\n",
            " 1277 1295 1296 1308 1312 1324 1325 1348 1350 1392 1399 1407 1417 1440\n",
            " 1450 1458 1470 1492 1498 1507 1516 1519 1524 1540 1542 1548 1568 1571\n",
            " 1587 1588 1600 1624 1625 1630 1635 1649 1654 1664 1679 1687 1692 1700\n",
            " 1726 1747 1749 1774 1775 1778 1780 1782 1789 1803 1810 1813 1828 1833\n",
            " 1836 1839 1857 1867 1902 1917 1929 1936 1951 1966 1971 1973 1990 1992\n",
            " 1996 1997 2007 2016 2023 2039 2054 2072 2078 2079 2080 2086 2112 2114\n",
            " 2121 2122 2148 2160 2162 2174 2178 2181 2182 2184 2217 2224]\n",
            "Fold 8:\n",
            "  Train: index=[   0    1    2 ... 2222 2223 2224]\n",
            "  Test:  index=[   4   16   17   19   26   35   37   46   50   53   98  103  116  119\n",
            "  127  149  151  152  154  157  160  180  190  225  229  245  252  263\n",
            "  268  279  283  301  304  313  320  369  399  403  407  437  443  469\n",
            "  470  476  489  496  509  511  517  524  537  546  565  569  574  586\n",
            "  606  612  625  627  635  639  653  655  656  658  681  684  685  687\n",
            "  699  726  740  749  758  773  784  790  797  800  821  822  827  830\n",
            "  833  837  853  866  876  877  883  902  913  920  927  935  954  956\n",
            "  959  961  971  980  991  992 1002 1003 1012 1019 1045 1056 1062 1069\n",
            " 1072 1077 1081 1115 1126 1127 1135 1139 1143 1148 1150 1154 1158 1166\n",
            " 1186 1195 1199 1213 1218 1219 1243 1250 1279 1300 1311 1346 1365 1372\n",
            " 1373 1377 1388 1396 1398 1409 1415 1416 1443 1445 1497 1504 1527 1535\n",
            " 1539 1603 1627 1632 1648 1662 1686 1688 1693 1696 1704 1705 1715 1721\n",
            " 1729 1743 1758 1799 1815 1816 1823 1834 1841 1848 1852 1871 1875 1880\n",
            " 1884 1886 1892 1900 1906 1919 1939 1940 1943 1946 1964 1965 1978 1982\n",
            " 1991 2004 2005 2006 2012 2014 2019 2034 2051 2070 2097 2099 2102 2103\n",
            " 2104 2109 2131 2157 2164 2176 2177 2197 2199 2206 2207 2209]\n",
            "Fold 9:\n",
            "  Train: index=[   0    2    3 ... 2222 2223 2224]\n",
            "  Test:  index=[   1    8   21   34   64   95  122  130  143  146  150  161  186  189\n",
            "  197  200  201  202  206  207  241  253  262  293  317  330  337  345\n",
            "  378  379  391  392  397  400  418  452  455  459  466  472  474  488\n",
            "  492  502  540  550  562  563  600  608  623  640  641  646  648  659\n",
            "  663  683  698  702  709  747  763  766  769  775  779  791  795  804\n",
            "  815  835  854  860  863  870  871  878  880  896  928  955  960  972\n",
            "  975  995 1014 1016 1020 1021 1028 1038 1051 1059 1060 1076 1082 1095\n",
            " 1122 1129 1130 1136 1147 1152 1153 1162 1171 1180 1183 1184 1215 1238\n",
            " 1256 1257 1267 1275 1282 1291 1294 1297 1306 1321 1327 1354 1363 1367\n",
            " 1369 1390 1400 1408 1434 1438 1439 1478 1479 1482 1484 1485 1495 1496\n",
            " 1500 1515 1520 1522 1528 1529 1534 1570 1579 1585 1589 1595 1597 1631\n",
            " 1634 1636 1638 1643 1661 1663 1675 1678 1682 1685 1695 1698 1707 1722\n",
            " 1733 1734 1751 1757 1759 1768 1787 1794 1796 1802 1806 1819 1843 1853\n",
            " 1863 1881 1895 1899 1923 1930 1955 1959 1969 1976 1981 1986 1998 2011\n",
            " 2013 2027 2038 2041 2047 2061 2062 2068 2077 2088 2105 2115 2123 2124\n",
            " 2135 2139 2140 2152 2163 2165 2166 2169 2171 2180 2186 2219]\n"
          ]
        }
      ]
    },
    {
      "cell_type": "code",
      "source": [
        "# for train,test in kfold.split(df):\n",
        "#   print('train: %s, test: %s' % (df['text'], df['category']))"
      ],
      "metadata": {
        "id": "S1MxffbCwjVn"
      },
      "execution_count": null,
      "outputs": []
    },
    {
      "cell_type": "code",
      "source": [],
      "metadata": {
        "id": "zhGTqkKVxp7j"
      },
      "execution_count": null,
      "outputs": []
    }
  ]
}