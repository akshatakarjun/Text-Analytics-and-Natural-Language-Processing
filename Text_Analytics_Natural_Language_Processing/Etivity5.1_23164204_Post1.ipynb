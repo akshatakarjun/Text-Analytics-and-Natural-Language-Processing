{
  "nbformat": 4,
  "nbformat_minor": 0,
  "metadata": {
    "colab": {
      "provenance": []
    },
    "kernelspec": {
      "name": "python3",
      "display_name": "Python 3"
    },
    "language_info": {
      "name": "python"
    }
  },
  "cells": [
    {
      "cell_type": "markdown",
      "source": [
        "Name: Akshata Bheemasamudra Mallikarjunappa\n",
        "\n",
        "Student ID: 23164204"
      ],
      "metadata": {
        "id": "OOMMCvPsqe75"
      }
    },
    {
      "cell_type": "markdown",
      "source": [
        "Task 1:"
      ],
      "metadata": {
        "id": "WAsIU3xkzMML"
      }
    },
    {
      "cell_type": "markdown",
      "source": [
        "$$Probabilities -of -the -Prior:$$\n",
        "\n",
        "$$P(GB) = \\frac{2}{4} = \\frac{1}{2}$$\n",
        "$$P(IE) = \\frac{2}{4} = \\frac{1}{2}$$\n",
        "\n",
        "$$Conditional -Probabilities:$$\n",
        "\n",
        "$$P(University|GB)=\\frac{0+1}{12+13}=\\frac{1}{25}$$\n",
        "$$P(University|IE)=\\frac{0+1}{12+13}=\\frac{1}{25}$$\n",
        "\n",
        "$$P(of|GB)=\\frac{1+1}{12+13}=\\frac{2}{25}$$\n",
        "$$P(of|IE)=\\frac{1+1}{12+13}=\\frac{2}{25}$$\n",
        "\n",
        "$$P(Limerick|GB)=\\frac{0+1}{12+13}=\\frac{1}{25}$$\n",
        "$$P(Limerick|IE)=\\frac{1+1}{12+13}=\\frac{2}{25}$$\n",
        "\n",
        "$$P(Wolves|GB)=\\frac{0+1}{12+13}=\\frac{1}{25}$$\n",
        "$$P(Wolves/IE)=\\frac{0+1}{12+13}=\\frac{1}{25}$$\n",
        "\n",
        "$$Computing -test -class:$$\n",
        "\n",
        "$$P(GB|d5)=\\frac{1}{2}\\times\\frac{1}{25}\\times\\frac{2}{25}\\times\\frac{1}{25}\\times\\frac{1}{25}=0.00000256$$\n",
        "\n",
        "$$P(IE|d5)=\\frac{1}{2}\\times\\frac{1}{25}\\times\\frac{2}{25}\\times\\frac{2}{25}\\times\\frac{1}{25}=0.00000512$$\n",
        "\n",
        "$$The -class -of -the -test -doc5 -is -IE.$$\n",
        "\n"
      ],
      "metadata": {
        "id": "WW4dyLtkqlT2"
      }
    },
    {
      "cell_type": "code",
      "source": [],
      "metadata": {
        "id": "CCfyNcI8qj1Y"
      },
      "execution_count": null,
      "outputs": []
    },
    {
      "cell_type": "markdown",
      "source": [
        "Task 2:"
      ],
      "metadata": {
        "id": "A-pYKwIxzPIY"
      }
    },
    {
      "cell_type": "code",
      "source": [
        "import pandas as pd"
      ],
      "metadata": {
        "id": "dqUeIjfqzQMM"
      },
      "execution_count": null,
      "outputs": []
    },
    {
      "cell_type": "code",
      "source": [
        "!wget https://ptrckprry.com/course/ssd/data/positive-words.txt\n",
        "\n",
        "positive_df = pd.read_csv('positive-words.txt', delimiter = '\\t', header = None)\n",
        "\n",
        "print(positive_df)\n",
        "total_positive = len(positive_df)\n",
        "print(f'Number of positive words: {total_positive}')"
      ],
      "metadata": {
        "colab": {
          "base_uri": "https://localhost:8080/"
        },
        "id": "OQ4BWDSVzShu",
        "outputId": "19db7514-26f1-477e-a59d-3244152206ab"
      },
      "execution_count": null,
      "outputs": [
        {
          "output_type": "stream",
          "name": "stdout",
          "text": [
            "--2023-11-10 01:19:03--  https://ptrckprry.com/course/ssd/data/positive-words.txt\n",
            "Resolving ptrckprry.com (ptrckprry.com)... 185.199.111.153, 185.199.110.153, 185.199.109.153, ...\n",
            "Connecting to ptrckprry.com (ptrckprry.com)|185.199.111.153|:443... connected.\n",
            "HTTP request sent, awaiting response... 200 OK\n",
            "Length: 20630 (20K) [text/plain]\n",
            "Saving to: ‘positive-words.txt.2’\n",
            "\n",
            "\rpositive-words.txt.   0%[                    ]       0  --.-KB/s               \rpositive-words.txt. 100%[===================>]  20.15K  --.-KB/s    in 0.001s  \n",
            "\n",
            "2023-11-10 01:19:03 (15.4 MB/s) - ‘positive-words.txt.2’ saved [20630/20630]\n",
            "\n",
            "                                                      0\n",
            "0     ;;;;;;;;;;;;;;;;;;;;;;;;;;;;;;;;;;;;;;;;;;;;;;...\n",
            "1                                                    ; \n",
            "2                           ; Opinion Lexicon: Positive\n",
            "3                                                     ;\n",
            "4     ; This file contains a list of POSITIVE opinio...\n",
            "...                                                 ...\n",
            "2035                                           youthful\n",
            "2036                                               zeal\n",
            "2037                                             zenith\n",
            "2038                                               zest\n",
            "2039                                              zippy\n",
            "\n",
            "[2040 rows x 1 columns]\n",
            "Number of positive words: 2040\n"
          ]
        }
      ]
    },
    {
      "cell_type": "code",
      "source": [
        "!wget https://ptrckprry.com/course/ssd/data/negative-words.txt\n",
        "\n",
        "negative_df = pd.read_csv('negative-words.txt', delimiter = '\\t',encoding = 'ISO-8859-1', header = None)\n",
        "\n",
        "print(negative_df)\n",
        "total_negative = len(negative_df)\n",
        "print(f'Number of negative words: {total_negative}')"
      ],
      "metadata": {
        "colab": {
          "base_uri": "https://localhost:8080/"
        },
        "id": "GdPZhkKlzkF3",
        "outputId": "3efc170c-0db0-4152-86a6-67e2b3fc5452"
      },
      "execution_count": null,
      "outputs": [
        {
          "output_type": "stream",
          "name": "stdout",
          "text": [
            "--2023-11-10 01:21:14--  https://ptrckprry.com/course/ssd/data/negative-words.txt\n",
            "Resolving ptrckprry.com (ptrckprry.com)... 185.199.111.153, 185.199.109.153, 185.199.110.153, ...\n",
            "Connecting to ptrckprry.com (ptrckprry.com)|185.199.111.153|:443... connected.\n",
            "HTTP request sent, awaiting response... 200 OK\n",
            "Length: 46299 (45K) [text/plain]\n",
            "Saving to: ‘negative-words.txt.1’\n",
            "\n",
            "\rnegative-words.txt.   0%[                    ]       0  --.-KB/s               \rnegative-words.txt. 100%[===================>]  45.21K  --.-KB/s    in 0.01s   \n",
            "\n",
            "2023-11-10 01:21:14 (3.44 MB/s) - ‘negative-words.txt.1’ saved [46299/46299]\n",
            "\n",
            "                                                      0\n",
            "0     ;;;;;;;;;;;;;;;;;;;;;;;;;;;;;;;;;;;;;;;;;;;;;;...\n",
            "1                                                    ; \n",
            "2                           ; Opinion Lexicon: Negative\n",
            "3                                                     ;\n",
            "4     ; This file contains a list of NEGATIVE opinio...\n",
            "...                                                 ...\n",
            "4812                                               zaps\n",
            "4813                                             zealot\n",
            "4814                                            zealous\n",
            "4815                                          zealously\n",
            "4816                                             zombie\n",
            "\n",
            "[4817 rows x 1 columns]\n",
            "Number of negative words: 4817\n"
          ]
        }
      ]
    },
    {
      "cell_type": "code",
      "source": [
        "def sentimentAnalyser(string):\n",
        "  positive_counts = 0\n",
        "  negative_counts = 0\n",
        "  list_words = string.split(' ')\n",
        "  total_words = len(list_words)\n",
        "\n",
        "  for x in positive_df.itertuples():\n",
        "    for y in list_words:\n",
        "      if y == str(x[1]):\n",
        "        positive_counts += 1\n",
        "  for x in negative_df.itertuples():\n",
        "    for y in list_words:\n",
        "      if y == str(x[1]):\n",
        "        negative_counts += 1\n",
        "\n",
        "  print('string = ', string)\n",
        "  if positive_counts > negative_counts:\n",
        "      print('positive sentiment')\n",
        "      print('confidence = ', positive_counts/total_words)\n",
        "  elif positive_counts < negative_counts:\n",
        "      print('negative sentiment')\n",
        "      print('confidence = ', negative_counts/total_words)\n",
        "  else:\n",
        "      print('neutral sentiment')\n",
        "      print('confidence = ', negative_counts/total_words)\n",
        "  print('-------------------------------')"
      ],
      "metadata": {
        "id": "y5MEb9tB0P1n"
      },
      "execution_count": null,
      "outputs": []
    },
    {
      "cell_type": "code",
      "source": [
        "sentimentAnalyser(\"NLP is cool\")\n",
        "sentimentAnalyser(\"NLP is cool and useful\")\n",
        "sentimentAnalyser(\"NLP is hard\")\n",
        "sentimentAnalyser(\"NLP is hard and useless\")\n",
        "sentimentAnalyser(\"NLP stands for Natural Language Processing\")"
      ],
      "metadata": {
        "colab": {
          "base_uri": "https://localhost:8080/"
        },
        "id": "EcA6uTFH3IyK",
        "outputId": "cd5f6765-6c9b-4083-a646-dc9126770c1a"
      },
      "execution_count": null,
      "outputs": [
        {
          "output_type": "stream",
          "name": "stdout",
          "text": [
            "string =  NLP is cool\n",
            "positive sentiment\n",
            "confidence =  0.3333333333333333\n",
            "-------------------------------\n",
            "string =  NLP is cool and useful\n",
            "positive sentiment\n",
            "confidence =  0.4\n",
            "-------------------------------\n",
            "string =  NLP is hard\n",
            "negative sentiment\n",
            "confidence =  0.3333333333333333\n",
            "-------------------------------\n",
            "string =  NLP is hard and useless\n",
            "negative sentiment\n",
            "confidence =  0.4\n",
            "-------------------------------\n",
            "string =  NLP stands for Natural Language Processing\n",
            "neutral sentiment\n",
            "confidence =  0.0\n",
            "-------------------------------\n"
          ]
        }
      ]
    },
    {
      "cell_type": "code",
      "source": [],
      "metadata": {
        "id": "Eo8NbHCY3Jjy"
      },
      "execution_count": null,
      "outputs": []
    }
  ]
}