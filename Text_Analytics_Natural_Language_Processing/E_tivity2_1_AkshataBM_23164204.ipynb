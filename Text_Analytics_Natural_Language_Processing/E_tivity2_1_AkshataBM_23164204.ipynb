{
  "nbformat": 4,
  "nbformat_minor": 0,
  "metadata": {
    "colab": {
      "provenance": []
    },
    "kernelspec": {
      "name": "python3",
      "display_name": "Python 3"
    },
    "language_info": {
      "name": "python"
    }
  },
  "cells": [
    {
      "cell_type": "markdown",
      "source": [
        "#### Akshata Bheemasamudra Mallikarjunappa\n",
        "##### 23164204"
      ],
      "metadata": {
        "id": "-FmJCA557bLN"
      }
    },
    {
      "cell_type": "markdown",
      "source": [
        "### Task 1"
      ],
      "metadata": {
        "id": "dol4YAfq71hC"
      }
    },
    {
      "cell_type": "code",
      "source": [
        "import time\n",
        "\n",
        "#How many insertions, deletions, or substitutions does it take to turn x into y?\n",
        "def edDistRecursive(x, y):\n",
        "\n",
        "    # If either x or y are empty, then one or more (depending on their length) INSERTIONS or DELECTIONS are needed to transform x to y.\n",
        "    if len(x) == 0:\n",
        "        #print(f'\\t Converting \"{x}\" TO \"{y}\" requires {len(y)} INSERTIONS, therefor it costs {len(y)}')\n",
        "        return len(y)\n",
        "    if len(y) == 0:\n",
        "        #print(f'\\t Converting \"{x}\" TO \"{y}\" requires {len(x)} DELETIONS, therefor it costs {len(x)}')\n",
        "        return len(x)\n",
        "\n",
        "    # When neither x or y are empty, we must compute the cost of each operation and find the least costly one.\n",
        "    # delta = 1 if x[-1] != y[-1] else 0\n",
        "    num = ('0123456789')\n",
        "    if x[-1] != y[-1]:\n",
        "      delta = 1\n",
        "      if x[-1] not in num and y[-1] in num:\n",
        "        delta = 2\n",
        "    else:\n",
        "      delta = 0\n",
        "\n",
        "    diagonal_or_substitution_cost = edDistRecursive(x[:-1], y[:-1]) + delta #what's the cost of SUBSTITUTING the last character of x with the last character of y\n",
        "    vertical_or_deletion_cost     = edDistRecursive(x[:-1], y)      + 1     #what's the cost of DELETING the last character of x\n",
        "    horizontal_or_insertion_cost  = edDistRecursive(x, y[:-1])      + 1     #what's the cost of INSERTING the last character of x into y\n",
        "\n",
        "    # what's the least costly operation?\n",
        "    minValue = min(diagonal_or_substitution_cost, vertical_or_deletion_cost, horizontal_or_insertion_cost)\n",
        "    return minValue\n",
        ""
      ],
      "metadata": {
        "id": "V5M_clBN7eXj"
      },
      "execution_count": 35,
      "outputs": []
    },
    {
      "cell_type": "code",
      "source": [
        "# when last characters are a letter\n",
        "print(edDistRecursive('intention','execution'))\n",
        "# when last source char is a letter and target inputted is a number\n",
        "print(edDistRecursive('intention','executio5'))"
      ],
      "metadata": {
        "colab": {
          "base_uri": "https://localhost:8080/"
        },
        "id": "wq11EByPDtSl",
        "outputId": "0a2f9b64-e60f-4041-d21d-893ff233fad8"
      },
      "execution_count": 40,
      "outputs": [
        {
          "output_type": "stream",
          "name": "stdout",
          "text": [
            "5\n",
            "7\n"
          ]
        }
      ]
    },
    {
      "cell_type": "code",
      "source": [
        "# b. Measuring the execution time\n",
        "start = time.time()\n",
        "print(edDistRecursive('intention','execution'))\n",
        "end = time.time()\n",
        "print(end-start)\n",
        "\n",
        "begin = time.time()\n",
        "print(edDistRecursive('intentio5','execution'))\n",
        "final = time.time()\n",
        "print(final-begin)"
      ],
      "metadata": {
        "colab": {
          "base_uri": "https://localhost:8080/"
        },
        "id": "DWHt64_o8Eel",
        "outputId": "84eee84c-1078-4f3b-c652-c9d8ed1485f7"
      },
      "execution_count": 75,
      "outputs": [
        {
          "output_type": "stream",
          "name": "stdout",
          "text": [
            "5\n",
            "0.9935331344604492\n",
            "6\n",
            "0.9769892692565918\n"
          ]
        }
      ]
    },
    {
      "cell_type": "markdown",
      "source": [
        "### Task2"
      ],
      "metadata": {
        "id": "hfL71wEqEFW4"
      }
    },
    {
      "cell_type": "code",
      "source": [
        "# a. Checking if FirstName and LastName exist in the dataset\n",
        "\n",
        "!pip install names-dataset\n",
        "from names_dataset import NameDataset, NameWrapper\n",
        "nd = NameDataset()"
      ],
      "metadata": {
        "colab": {
          "base_uri": "https://localhost:8080/"
        },
        "id": "A2AjY-PN8Owi",
        "outputId": "ba473336-1e8c-4651-e37c-cdac1f1adcf1"
      },
      "execution_count": 43,
      "outputs": [
        {
          "output_type": "stream",
          "name": "stdout",
          "text": [
            "Collecting names-dataset\n",
            "  Downloading names-dataset-3.1.0.tar.gz (58.4 MB)\n",
            "\u001b[2K     \u001b[90m━━━━━━━━━━━━━━━━━━━━━━━━━━━━━━━━━━━━━━━━\u001b[0m \u001b[32m58.4/58.4 MB\u001b[0m \u001b[31m17.2 MB/s\u001b[0m eta \u001b[36m0:00:00\u001b[0m\n",
            "\u001b[?25h  Preparing metadata (setup.py) ... \u001b[?25l\u001b[?25hdone\n",
            "Collecting pycountry (from names-dataset)\n",
            "  Downloading pycountry-22.3.5.tar.gz (10.1 MB)\n",
            "\u001b[2K     \u001b[90m━━━━━━━━━━━━━━━━━━━━━━━━━━━━━━━━━━━━━━━━\u001b[0m \u001b[32m10.1/10.1 MB\u001b[0m \u001b[31m87.8 MB/s\u001b[0m eta \u001b[36m0:00:00\u001b[0m\n",
            "\u001b[?25h  Installing build dependencies ... \u001b[?25l\u001b[?25hdone\n",
            "  Getting requirements to build wheel ... \u001b[?25l\u001b[?25hdone\n",
            "  Preparing metadata (pyproject.toml) ... \u001b[?25l\u001b[?25hdone\n",
            "Requirement already satisfied: setuptools in /usr/local/lib/python3.10/dist-packages (from pycountry->names-dataset) (67.7.2)\n",
            "Building wheels for collected packages: names-dataset, pycountry\n",
            "  Building wheel for names-dataset (setup.py) ... \u001b[?25l\u001b[?25hdone\n",
            "  Created wheel for names-dataset: filename=names_dataset-3.1.0-py3-none-any.whl size=116832759 sha256=1616e4044be1b71a4f33ddd6e25a60dbcd4748fcc546e811b52f7126d911abc3\n",
            "  Stored in directory: /root/.cache/pip/wheels/cf/f8/43/0c4aba87b34e971e7255a41f11dc0035c5e55b026dc3480986\n",
            "  Building wheel for pycountry (pyproject.toml) ... \u001b[?25l\u001b[?25hdone\n",
            "  Created wheel for pycountry: filename=pycountry-22.3.5-py2.py3-none-any.whl size=10681833 sha256=cef906a5832d89190883afde97f4060c2ca1f2fa38f824066632f97f48efc486\n",
            "  Stored in directory: /root/.cache/pip/wheels/03/57/cc/290c5252ec97a6d78d36479a3c5e5ecc76318afcb241ad9dbe\n",
            "Successfully built names-dataset pycountry\n",
            "Installing collected packages: pycountry, names-dataset\n",
            "Successfully installed names-dataset-3.1.0 pycountry-22.3.5\n"
          ]
        }
      ]
    },
    {
      "cell_type": "code",
      "source": [
        "def check(FirstName, LastName):\n",
        "  if FirstName in nd.first_names and LastName in nd.last_names:\n",
        "    print('The name ' , FirstName, LastName, 'exists')\n",
        "  else:\n",
        "    print('name does not exist')"
      ],
      "metadata": {
        "id": "ssOGOxTOEnnD"
      },
      "execution_count": 79,
      "outputs": []
    },
    {
      "cell_type": "code",
      "source": [
        "check('Akshata','BM')\n",
        "check('Laure', 'Canet')"
      ],
      "metadata": {
        "colab": {
          "base_uri": "https://localhost:8080/"
        },
        "id": "LP7fpMx4FzGP",
        "outputId": "ee40ecfc-62dd-4442-e4a4-8719d88da74a"
      },
      "execution_count": 80,
      "outputs": [
        {
          "output_type": "stream",
          "name": "stdout",
          "text": [
            "name does not exist\n",
            "The name  Laure Canet exists\n"
          ]
        }
      ]
    },
    {
      "cell_type": "code",
      "source": [
        "!pip install jellyfish"
      ],
      "metadata": {
        "colab": {
          "base_uri": "https://localhost:8080/"
        },
        "id": "6J74P6TkGAwV",
        "outputId": "e100e419-34a5-4ae7-9c60-b61627b67b82"
      },
      "execution_count": 49,
      "outputs": [
        {
          "output_type": "stream",
          "name": "stdout",
          "text": [
            "Collecting jellyfish\n",
            "  Downloading jellyfish-1.0.1-cp310-cp310-manylinux_2_17_x86_64.manylinux2014_x86_64.whl (1.2 MB)\n",
            "\u001b[?25l     \u001b[90m━━━━━━━━━━━━━━━━━━━━━━━━━━━━━━━━━━━━━━━━\u001b[0m \u001b[32m0.0/1.2 MB\u001b[0m \u001b[31m?\u001b[0m eta \u001b[36m-:--:--\u001b[0m\r\u001b[2K     \u001b[91m━━━━━━\u001b[0m\u001b[91m╸\u001b[0m\u001b[90m━━━━━━━━━━━━━━━━━━━━━━━━━━━━━━━━━\u001b[0m \u001b[32m0.2/1.2 MB\u001b[0m \u001b[31m6.1 MB/s\u001b[0m eta \u001b[36m0:00:01\u001b[0m\r\u001b[2K     \u001b[91m━━━━━━━━━━━━━━━━━━━━━━━━\u001b[0m\u001b[91m╸\u001b[0m\u001b[90m━━━━━━━━━━━━━━━\u001b[0m \u001b[32m0.8/1.2 MB\u001b[0m \u001b[31m10.7 MB/s\u001b[0m eta \u001b[36m0:00:01\u001b[0m\r\u001b[2K     \u001b[91m━━━━━━━━━━━━━━━━━━━━━━━━━━━━━━━━━━━━━━━\u001b[0m\u001b[91m╸\u001b[0m \u001b[32m1.2/1.2 MB\u001b[0m \u001b[31m12.7 MB/s\u001b[0m eta \u001b[36m0:00:01\u001b[0m\r\u001b[2K     \u001b[90m━━━━━━━━━━━━━━━━━━━━━━━━━━━━━━━━━━━━━━━━\u001b[0m \u001b[32m1.2/1.2 MB\u001b[0m \u001b[31m11.0 MB/s\u001b[0m eta \u001b[36m0:00:00\u001b[0m\n",
            "\u001b[?25hInstalling collected packages: jellyfish\n",
            "Successfully installed jellyfish-1.0.1\n"
          ]
        }
      ]
    },
    {
      "cell_type": "code",
      "source": [
        "#b . Printing the soundex cde of the name\n",
        "import jellyfish"
      ],
      "metadata": {
        "id": "Ecm6rvtDGVmW"
      },
      "execution_count": 50,
      "outputs": []
    },
    {
      "cell_type": "code",
      "source": [
        "def code(firstname,lastname):\n",
        "  fn_code = jellyfish.soundex(firstname)\n",
        "  ln_code = jellyfish.soundex(lastname)\n",
        "  print('Code for your first name is :', fn_code)\n",
        "  print('Code for your last name is :', ln_code)"
      ],
      "metadata": {
        "id": "JLMzzQ_jGd2U"
      },
      "execution_count": 91,
      "outputs": []
    },
    {
      "cell_type": "code",
      "source": [
        "code('Akshata','BM')"
      ],
      "metadata": {
        "colab": {
          "base_uri": "https://localhost:8080/"
        },
        "id": "L0OIjBJCGxrD",
        "outputId": "6afda5e5-0c8f-4e28-b411-b45ff04af265"
      },
      "execution_count": 92,
      "outputs": [
        {
          "output_type": "stream",
          "name": "stdout",
          "text": [
            "Code for your first name is : A230\n",
            "Code for your last name is : B500\n"
          ]
        }
      ]
    },
    {
      "cell_type": "code",
      "source": [
        "#c. Checking if the soundex codes are the same for input and names in dataset\n",
        "def codecheck(FirstName):\n",
        "  soundx = jellyfish.soundex(FirstName)\n",
        "  firstnames = []\n",
        "  count = 0\n",
        "  for i in nd.first_names:\n",
        "    b = jellyfish.soundex(i)\n",
        "    if soundx == b:\n",
        "     firstnames.append(i)\n",
        "     count += 1\n",
        "\n",
        "  print('The soundex is ', soundx, 'and names similar to your name is' , firstnames , 'and no of names is' , count)\n",
        ""
      ],
      "metadata": {
        "id": "c_5hIz9SHAMR"
      },
      "execution_count": 84,
      "outputs": []
    },
    {
      "cell_type": "code",
      "source": [
        "codecheck('名字')\n",
        "codecheck('Akshata')"
      ],
      "metadata": {
        "colab": {
          "base_uri": "https://localhost:8080/"
        },
        "id": "3xVU1zZpI-Kh",
        "outputId": "d9242795-70a3-4c8b-e349-23ec93bc6d4b"
      },
      "execution_count": 90,
      "outputs": [
        {
          "output_type": "stream",
          "name": "stdout",
          "text": [
            "The soundex is  名000 and names similar to your name is ['名傑', '名宏', '名峰', '名扬', '名揚', '名氏', '名翔', '名軒'] and no of names is 8\n",
            "The soundex is  A230 and names similar to your name is ['A Jaweed', 'A Seid', 'A-Sada', 'Aagata', 'Aagot', 'Aaishathu', 'Aajad', 'Aasd', 'Aasdh', 'Aassdd', 'Aasta', 'Aastha', 'Aazad', 'Aced', 'Aceite', 'Aceto', 'Achadoo', 'Achat', 'Achata', 'Achatou', 'Achd', 'Achiad', 'Achida', 'Achidi', 'Achit', 'Achitei', 'Achot', 'Achotia', 'Acht', 'Achta', 'Achut', 'Achyut', 'Achyuta', 'Acid', 'Acied', 'Acit', 'Acito', 'Aciyath', 'Act', 'Acta', 'Acte', 'Acti', 'Acxat', 'Acyuta', 'Aeeshat', 'Aeshath', 'Aeshąt', 'Aeyshath', 'Aga Ta', 'Agaat', 'Agaata', 'Agaath', 'Agada', 'Agadi', 'Agat', 'Agata', 'Agataa', 'Agate', 'Agath', 'Agatha', 'Agathe', 'Agathi', 'Agatta', 'Agd', 'Agda', 'Agead', 'Aged', 'Ageda', 'Agede', 'Ageedha', 'Ageeth', 'Aget', 'Ageta', 'Agete', 'Aghata', 'Aghead', 'Aghed', 'Aghedo', 'Aghiad', 'Aghid', 'Aghyad', 'Agiad', 'Agid', 'Agida', 'Agidi', 'Agit', 'Agita', 'Agod', 'Agodi', 'Agot', 'Agota', 'Agta', 'Aguda', 'Agude', 'Agudey', 'Agudie', 'Agudu', 'Agueda', 'Aguedo', 'Aguida', 'Agute', 'Agutė', 'Agya Adu', 'Agyad', 'Agáta', 'Ah Jawid', 'Ah Kiat', 'Ah Saot', 'Ahista', 'Ahsad', 'Ahshdhd', 'Aichata', 'Aichath', 'Aichatou', 'Aichetou', 'Aikido', 'Aikuti', 'Aisahth', 'Aisath', 'Aisathu', 'Aisatou', 'Aiseta', 'Aishat', 'Aishath', 'Aishatha', 'Aishathu', 'Aishatou', 'Aishatu', 'Aishetu', 'Aishth', 'Aisida', 'Aisooda', 'Aissat', 'Aissata', 'Aissati', 'Aissato', 'Aissatou', 'Aissatu', 'Aisseta', 'Aissetou', 'Aisstou', 'Aist', 'Aista', 'Aiste', 'Aistee', 'Aisthu', 'Aistu', 'Aistė', 'Aizad', 'Aizada', 'Aizat', 'Aizzat', 'Ajad', 'Ajada', 'Ajadi', 'Ajat', 'Ajata', 'Ajd', 'Ajda', 'Ajdaa', 'Ajde', 'Ajdha', 'Ajdi', 'Ajeed', 'Ajeet', 'Ajeeta', 'Ajeeth', 'Ajet', 'Ajeta', 'Ajete', 'Ajeti', 'Ajhadh', 'Ajid', 'Ajida', 'Ajide', 'Ajit', 'Ajita', 'Ajith', 'Ajitha', 'Ajodo', 'Ajsida', 'Ajta', 'Ajtai', 'Ajuda', 'Ajwad', 'Ajwadh', 'Ajwath', 'Akad', 'Akadi', 'Akat', 'Akata', 'Akate', 'Akateh', 'Akati', 'Akato', 'Akattah', 'Akatu', 'Akd', 'Akdi', 'Aked', 'Akeed', 'Akeodi', 'Aket', 'Akhat', 'Akhwat', 'Akid', 'Akide', 'Akidi', 'Akiet', 'Akihide', 'Akihito', 'Akiode', 'Akit', 'Akita', 'Akite', 'Akiti', 'Akito', 'Akkad', 'Akodu', 'Akoeda', 'Akoetey', 'Akoid', 'Akot', 'Akotia', 'Akoto', 'Akotuah', 'Akouete', 'Aksgd', 'Akshada', 'Akshat', 'Akshata', 'Akshatha', 'Akshit', 'Akshita', 'Akshitha', 'Akt', 'Akta', 'Aktau', 'Akudo', 'Akuetey', 'Akuetteh', 'Akut', 'Akuta', 'Akutey', 'Akuteye', 'Akutu', 'Akwada', 'Akwadaa', 'Akweteh', 'Akwetey', 'Akyedie', 'Akzada', 'Akzat', 'Aqat', 'Aqete', 'Aqid', 'Aqidah', 'As Tai', 'Asaad', 'Asad', 'Asada', 'Asadd', 'Asade', 'Asadey', 'Asadh', 'Asadhu', 'Asadi', 'Asado', 'Asadu', 'Asaed', 'Asahide', 'Asaid', 'Asat', 'Asata', 'Asate', 'Asatewaa', 'Asath', 'Asati', 'Asato', 'Asauto', 'Ascad', 'Ascada', 'Asda', 'Asdaw', 'Asde', 'Asdew', 'Asdi', 'Asdia', 'Asdii', 'Asdy', 'Asead', 'Ased', 'Aseda', 'Asedo', 'Aseed', 'Aseidu', 'Aseidua', 'Aset', 'Asgad', 'Asgat', 'Asgaut', 'Asged', 'Ashaad', 'Ashad', 'Ashade', 'Ashadh', 'Ashadi', 'Ashat', 'Ashath', 'Ashatu', 'Asheeta', 'Ashhaadh', 'Ashhad', 'Ashhadh', 'Ashiat', 'Ashid', 'Ashida', 'Ashiedu', 'Ashietu', 'Ashit', 'Ashita', 'Ashitey', 'Ashitha', 'Ashiyath', 'Ashkt', 'Ashot', 'Ashte', 'Ashtee', 'Ashti', 'Ashtu', 'Ashty', 'Ashwad', 'Ashwath', 'Ashwathi', 'Ashyatt', 'Asiat', 'Asiatou', 'Asiatu', 'Asid', 'Asida', 'Asidaa', 'Asidah', 'Asidu', 'Asiedu', 'Asiedua', 'Asieduaa', 'Asieduwaa', 'Asit', 'Asita', 'Asith', 'Asitha', 'Asiyat', 'Asiyath', 'Asiyathu', 'Asjad', 'Asjdhdhe', 'Asjed', 'Asjid', 'Askat', 'Askhad', 'Askhat', 'Asod', 'Asoda', 'Asode', 'Assaad', 'Assad', 'Assadh', 'Assadi', 'Assaid', 'Assata', 'Assd', 'Assed', 'Asset', 'Asseta', 'Asseto', 'Assetou', 'Asshed', 'Assiata', 'Assiatou', 'Assiatu', 'Assid', 'Assidi', 'Assita', 'Assoudi', 'Assèta', 'Assétou', 'Ast', 'Asta', 'Asta A', 'Aste', 'Asth', 'Astha', 'Asthu', 'Asti', 'Astia', 'Astie', 'Asto', 'Astou', 'Astu', 'Asty', 'Asuda', 'Asude', 'Asutay', 'Asuto', 'Aswad', 'Aswadi', 'Aswat', 'Aswath', 'Aswathi', 'Aswathy', 'Aswati', 'Aswda', 'Aswood', 'Asxad', 'Asxat', 'Asyat', 'Aszódi', 'Aughty', 'Augute', 'Auguto', 'Augutė', 'Auksta', 'Auksyte', 'Aushath', 'Aust', 'Austa', 'Auste', 'Austy', 'Austė', 'Awojide', 'Awsta', 'Awusatu', 'Axad', 'Axat', 'Axit', 'Axittey', 'Aychuth', 'Ayeeshat', 'Ayeshath', 'Ayeshatu', 'Ayisat', 'Ayishat', 'Ayishatu', 'Ayisheitu', 'Ayishetu', 'Ayishtu', 'Aykitu', 'Aykt', 'Aykut', 'Aysad', 'Ayshat', 'Ayshath', 'Ayshatu', 'Aysooda', 'Aysuda', 'Ayzada', 'Ayzat', 'Azaad', 'Azad', 'Azada', 'Azade', 'Azadeh', 'Azadi', 'Azadouhi', 'Azadouhy', 'Azat', 'Azawad', 'Azd', 'Azdi', 'Azdo', 'Azdou', 'Azdy', 'Azed', 'Azedah', 'Azeedah', 'Azeite', 'Azet', 'Azeta', 'Azeteh', 'Azhad', 'Azhadh', 'Azhda', 'Aziati', 'Azid', 'Azida', 'Azidah', 'Azidi', 'Azieda', 'Aziedu', 'Azit', 'Azita', 'Azito', 'Azodo', 'Azoitei', 'Azoud', 'Azutte', 'Azuwadh', 'Azwad', 'Azwadi', 'Azwidowi', 'Azyyati', 'Azzat', 'Azzeht', 'Azzhad', 'Aïchatou', 'Aïsatou', 'Aïssata', 'Aïssatou', 'Aïçhîtä', 'Aš Ta', 'Ašot', 'Àgata', 'Àgota', 'Àsta', 'Ágata', 'Ágatha', 'Ághata', 'Ágota', 'Ágotai', 'Águeda', 'Águida', 'Ásta', 'Ástey', 'Ãsâd', 'Ägidia', 'Ågot', 'Åsta', 'Åste', 'Āśhîťâ', 'Ąishath', 'Ąŋą Ȝêšht', 'Ặßd', 'Ặßdŏ', 'Ặßdŏu'] and no of names is 534\n"
          ]
        }
      ]
    },
    {
      "cell_type": "code",
      "source": [
        "#d . Levenshtein Distance of the first and last name\n",
        "def levname(firstname, lastname):\n",
        "  lev_dist = jellyfish.levenshtein_distance(firstname, lastname)\n",
        "  print('The Levenshtein Distance of the first name and last name is' ,lev_dist)"
      ],
      "metadata": {
        "id": "SyDdSAVHKJPU"
      },
      "execution_count": 86,
      "outputs": []
    },
    {
      "cell_type": "code",
      "source": [
        "levname('Akshata','Bheemasamudra Mallikarjunappa')"
      ],
      "metadata": {
        "colab": {
          "base_uri": "https://localhost:8080/"
        },
        "id": "xn9qp5RqKrDZ",
        "outputId": "cd6c01d9-0695-4627-adfd-355d4f8628bb"
      },
      "execution_count": 88,
      "outputs": [
        {
          "output_type": "stream",
          "name": "stdout",
          "text": [
            "The Levenshtein Distance of the first name and last name is 26\n"
          ]
        }
      ]
    },
    {
      "cell_type": "code",
      "source": [],
      "metadata": {
        "id": "rXxWUqIXKtuq"
      },
      "execution_count": null,
      "outputs": []
    }
  ]
}