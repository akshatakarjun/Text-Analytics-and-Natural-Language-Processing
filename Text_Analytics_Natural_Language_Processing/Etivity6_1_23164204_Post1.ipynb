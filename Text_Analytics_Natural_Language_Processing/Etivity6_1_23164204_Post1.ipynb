{
  "nbformat": 4,
  "nbformat_minor": 0,
  "metadata": {
    "colab": {
      "provenance": []
    },
    "kernelspec": {
      "name": "python3",
      "display_name": "Python 3"
    },
    "language_info": {
      "name": "python"
    }
  },
  "cells": [
    {
      "cell_type": "code",
      "source": [],
      "metadata": {
        "id": "k4Bbnp6ayn8T"
      },
      "execution_count": null,
      "outputs": []
    },
    {
      "cell_type": "markdown",
      "source": [
        "Name: Akshata Bheemasamudra Mallikarjunappa\n",
        "\n",
        "Student ID: 23164204"
      ],
      "metadata": {
        "id": "kj-oPVw8bgni"
      }
    },
    {
      "cell_type": "markdown",
      "source": [
        "###a.\n",
        "\n",
        "$$Micro-Averaged \\ Precision = \\frac{800+70}{(800+70)+(200+30)} = 0.7909$$\n",
        "\n",
        "$$Micro-Averaged \\ Recall = \\frac{800+70}{(800+70)+(200+30)} = 0.7909$$\n",
        "\n",
        "$$Micro-Averaged \\ F1 = \\frac{2 \\times Micro-Averaged \\ Precision \\times Micro-Avergaed \\ Recall}{(Micro-Averaged \\ Precision + Micro-Avergaed \\ Recall} = \\frac{2 \\times 0.7909 \\times 0.7909}{(0.7907+0.7909)} = 0.7908$$\n",
        "\n",
        "\n",
        "###b.\n",
        "\n",
        "$$Macro-Averaged \\ Precision = \\frac{\\frac{TP class 1}{( TP + FP) of class1} + \\frac{TP class 2}{( TP + FP) of class2}} {2} = \\frac{\\frac{800}{(800+200)} + \\frac{70}{(70+30)}}{2} = \\frac {(0.8+0.7)}{2} = 0.75$$\n",
        "\n",
        "$$Macro-Averaged \\ Recall = \\frac{\\frac{800}{(800+200)} + \\frac{70}{(70+30)}}{2} = \\frac {(0.8+0.7)}{2} = 0.75$$\n",
        "\n",
        "$$Macro-Averaged \\ F1 = \\frac{2 \\times Macro-Averaged \\ Precision \\times Macro-Avergaed \\ Recall}{(Macro-Averaged \\ Precision + Macro-Avergaed \\ Recall} =  \\frac{2 \\times 0.75 \\times 0.75}{(0.75+0.75)} \\ = 0.75$$\n",
        "\n",
        "\n",
        "###c.\n",
        "\n",
        "Micro-Avergaed F1 is measured for the precision and recall of the total of the classes whereas Macro-Avergaed F1 is calculated for precision and recall of each of the clases separately.\n"
      ],
      "metadata": {
        "id": "GcnqLlTmcxkH"
      }
    },
    {
      "cell_type": "code",
      "source": [
        "import math\n",
        "from textblob import TextBlob\n",
        "import pandas as pd"
      ],
      "metadata": {
        "id": "1XNKF4kceTrs"
      },
      "execution_count": 3,
      "outputs": []
    },
    {
      "cell_type": "code",
      "source": [
        "!wget https://ptrckprry.com/course/ssd/data/positive-words.txt\n",
        "!wget https://ptrckprry.com/course/ssd/data/negative-words.txt\n",
        "positive_df = pd.read_csv('positive-words.txt',delimiter='\\t',header=None)\n",
        "negative_df = pd.read_csv('negative-words.txt',delimiter='\\t',encoding='ISO-8859-1',header=None)\n",
        "(total_positive,total_negative)=(len(positive_df),len(negative_df))\n",
        "print(f'Number of Positive:{total_positive}, Number of Negative: {total_negative}')"
      ],
      "metadata": {
        "colab": {
          "base_uri": "https://localhost:8080/"
        },
        "id": "J3EdrAI_i7cj",
        "outputId": "83f132e4-d7e4-480d-f4ac-1a5b11445bbe"
      },
      "execution_count": 4,
      "outputs": [
        {
          "output_type": "stream",
          "name": "stdout",
          "text": [
            "--2023-11-24 13:38:46--  https://ptrckprry.com/course/ssd/data/positive-words.txt\n",
            "Resolving ptrckprry.com (ptrckprry.com)... 185.199.109.153, 185.199.108.153, 185.199.110.153, ...\n",
            "Connecting to ptrckprry.com (ptrckprry.com)|185.199.109.153|:443... connected.\n",
            "HTTP request sent, awaiting response... 200 OK\n",
            "Length: 20630 (20K) [text/plain]\n",
            "Saving to: ‘positive-words.txt.1’\n",
            "\n",
            "\rpositive-words.txt.   0%[                    ]       0  --.-KB/s               \rpositive-words.txt. 100%[===================>]  20.15K  --.-KB/s    in 0.002s  \n",
            "\n",
            "2023-11-24 13:38:46 (11.9 MB/s) - ‘positive-words.txt.1’ saved [20630/20630]\n",
            "\n",
            "--2023-11-24 13:38:46--  https://ptrckprry.com/course/ssd/data/negative-words.txt\n",
            "Resolving ptrckprry.com (ptrckprry.com)... 185.199.109.153, 185.199.108.153, 185.199.110.153, ...\n",
            "Connecting to ptrckprry.com (ptrckprry.com)|185.199.109.153|:443... connected.\n",
            "HTTP request sent, awaiting response... 200 OK\n",
            "Length: 46299 (45K) [text/plain]\n",
            "Saving to: ‘negative-words.txt.1’\n",
            "\n",
            "negative-words.txt. 100%[===================>]  45.21K  --.-KB/s    in 0.01s   \n",
            "\n",
            "2023-11-24 13:38:46 (3.63 MB/s) - ‘negative-words.txt.1’ saved [46299/46299]\n",
            "\n",
            "Number of Positive:2040, Number of Negative: 4817\n"
          ]
        }
      ]
    },
    {
      "cell_type": "code",
      "source": [
        "def sentimentAnalyzer(string):\n",
        "  positive_count = 0\n",
        "  negative_count = 0\n",
        "  word_list = string.split(\" \")\n",
        "\n",
        "  for x in positive_df.itertuples():\n",
        "    for y in word_list:\n",
        "      if y == str(x[1]):\n",
        "        positive_count += 1\n",
        "\n",
        "  for x in negative_df.itertuples():\n",
        "    for y in word_list:\n",
        "      if y == str(x[1]):\n",
        "        negative_count += 1\n",
        "\n",
        "  print('string =', string , '\\n')\n",
        "\n",
        "  if positive_count > negative_count:\n",
        "    print(TextBlob(string).sentiment)\n",
        "    print(\"Positive statement\")\n",
        "    print('Subjectivity:', TextBlob(string).subjectivity)\n",
        "\n",
        "  if positive_count < negative_count:\n",
        "    print(TextBlob(string).sentiment)\n",
        "    print(\"Negative statement\")\n",
        "    print('Subjectivity:' ,TextBlob(string).subjectivity)\n",
        "\n",
        "  if math.isclose(positive_count,negative_count):\n",
        "    print(TextBlob(string).sentiment)\n",
        "    print(\"Neutral statement\")\n",
        "    print('Subjectivity:' ,TextBlob(string).subjectivity)\n",
        "\n",
        "  print('--------------------------------------------------------')\n"
      ],
      "metadata": {
        "id": "30vgBzwBijaj"
      },
      "execution_count": 14,
      "outputs": []
    },
    {
      "cell_type": "code",
      "source": [
        "sentimentAnalyzer(\"NLP is cool\")\n",
        "sentimentAnalyzer(\"NLP is cool and useful\")\n",
        "sentimentAnalyzer(\"NLP is hard\")\n",
        "sentimentAnalyzer(\"NLP is hard and useless\")\n",
        "sentimentAnalyzer(\"NLP stands for Natural Language Processing\")"
      ],
      "metadata": {
        "colab": {
          "base_uri": "https://localhost:8080/"
        },
        "id": "5_dojHVQmpMc",
        "outputId": "f388a9f8-c864-46d7-a347-0e8aabc36926"
      },
      "execution_count": 15,
      "outputs": [
        {
          "output_type": "stream",
          "name": "stdout",
          "text": [
            "string = NLP is cool \n",
            "\n",
            "Sentiment(polarity=0.35, subjectivity=0.65)\n",
            "Positive statement\n",
            "Subjectivity: 0.65\n",
            "--------------------------------------------------------\n",
            "string = NLP is cool and useful \n",
            "\n",
            "Sentiment(polarity=0.32499999999999996, subjectivity=0.325)\n",
            "Positive statement\n",
            "Subjectivity: 0.325\n",
            "--------------------------------------------------------\n",
            "string = NLP is hard \n",
            "\n",
            "Sentiment(polarity=-0.2916666666666667, subjectivity=0.5416666666666666)\n",
            "Negative statement\n",
            "Subjectivity: 0.5416666666666666\n",
            "--------------------------------------------------------\n",
            "string = NLP is hard and useless \n",
            "\n",
            "Sentiment(polarity=-0.39583333333333337, subjectivity=0.37083333333333335)\n",
            "Negative statement\n",
            "Subjectivity: 0.37083333333333335\n",
            "--------------------------------------------------------\n",
            "string = NLP stands for Natural Language Processing \n",
            "\n",
            "Sentiment(polarity=0.1, subjectivity=0.4)\n",
            "Neutral statement\n",
            "Subjectivity: 0.4\n",
            "--------------------------------------------------------\n"
          ]
        }
      ]
    },
    {
      "cell_type": "code",
      "source": [],
      "metadata": {
        "id": "Y21MeFN1mpPz"
      },
      "execution_count": null,
      "outputs": []
    },
    {
      "cell_type": "code",
      "source": [
        "import math\n",
        "from collections import Counter\n",
        "def naiveBayesClassifier(trainingSet,testSet):\n",
        "  megaDocNEG = \"\"\n",
        "  megaDocPOS = \"\"\n",
        "  totalNEG = 0\n",
        "  totalPOS = 0\n",
        "  total = len(trainingSet)\n",
        "  NEG_BOW = {}\n",
        "  POS_BOW = {}\n",
        "  margin = 1.001\n",
        "\n",
        "  for i in trainingSet:\n",
        "   if i[1] == \"-\":\n",
        "    totalNEG += 1\n",
        "    megaDocNEG += f\"{i[0].lower()} \"\n",
        "   if i[1] == \"+\":\n",
        "    totalPOS += 1\n",
        "    megaDocPOS += f\"{i[0].lower()} \"\\\n",
        "\n",
        "\n",
        "  # print(totalNEG)\n",
        "  # print(totalPOS)\n",
        "\n",
        "  priorNEG = totalNEG/total\n",
        "  priorPOS = totalPOS/total\n",
        "\n",
        "  # print(priorNEG)\n",
        "  # print(priorPOS)\n",
        "\n",
        "  NEG_BOW = Counter(megaDocNEG.split())\n",
        "  POS_BOW = Counter(megaDocPOS.split())\n",
        "\n",
        "  # print(NEG_BOW)\n",
        "  # print(POS_BOW)\n",
        "\n",
        "\n",
        "  V_dict = dict(NEG_BOW + POS_BOW)\n",
        "  NEG_BOW = dict(NEG_BOW)\n",
        "  POS_BOW = dict(POS_BOW)\n",
        "\n",
        "  V = len(V_dict)\n",
        "  countNEG = sum(NEG_BOW.values())\n",
        "  countPOS = sum(POS_BOW.values())\n",
        "  print(f\"megaDocNEG = {megaDocNEG}\\nmegaDocPOS = {megaDocPOS}\")\n",
        "  print(f\"Prior Probability NEG = {priorNEG}, POS = {priorPOS}\")\n",
        "  print(f\"BOW NEG({countNEG}) = {NEG_BOW}, POS({countPOS}) = {POS_BOW}\")\n",
        "  print(f\"V = {V}\")\n",
        "\n",
        "\n",
        "  classified = []\n",
        "  condNEG = 0\n",
        "  condPOS = 0\n",
        "  probNEG = priorNEG\n",
        "  probPOS = priorPOS\n",
        "\n",
        "\n",
        "  for i in testSet:\n",
        "     sentence = i[0].lower()\n",
        "     words = sentence.split()\n",
        "\n",
        "     probNEG = priorNEG\n",
        "     probPOS = priorPOS\n",
        "     print(\"\\n-----------------------------------------------------------\")\n",
        "\n",
        "  for w in words:\n",
        "    if w in NEG_BOW.keys():\n",
        "      condNEG = (NEG_BOW[w] + 1) / (condNEG + V)\n",
        "    else:\n",
        "      condNEG = (1) / (countNEG + V)\n",
        "    if w in POS_BOW.keys():\n",
        "      condPOS =  (POS_BOW[w] + 1) / (countPOS + V)\n",
        "    else:\n",
        "      condPOS = (1) / (countPOS + V)\n",
        "\n",
        "  if condPOS > condNEG:\n",
        "   res = '+'\n",
        "   print(f'the probability of test class is positive (+)')\n",
        "\n",
        "  if condNEG > condPOS:\n",
        "   res = '-'\n",
        "   print('the probsbility of test class is (-)')"
      ],
      "metadata": {
        "id": "bFtq4QQ1mqIH"
      },
      "execution_count": 47,
      "outputs": []
    },
    {
      "cell_type": "code",
      "source": [
        "trainingSet = [('just plain boring','-'),('entirely predictable and lacks energy','-'),('no surprises and very few laughs','-'),('very powerful','+'),('the most fun film of the summer','+')]\n",
        "testSet = [('predictable with no fun','?')]\n",
        "naiveBayesClassifier(trainingSet,testSet)"
      ],
      "metadata": {
        "colab": {
          "base_uri": "https://localhost:8080/"
        },
        "id": "yXVeGPfzj7oy",
        "outputId": "3e6c3ec2-8a86-4764-87c4-736a938801f1"
      },
      "execution_count": 48,
      "outputs": [
        {
          "output_type": "stream",
          "name": "stdout",
          "text": [
            "3\n",
            "2\n",
            "0.6\n",
            "0.4\n",
            "Counter({'and': 2, 'just': 1, 'plain': 1, 'boring': 1, 'entirely': 1, 'predictable': 1, 'lacks': 1, 'energy': 1, 'no': 1, 'surprises': 1, 'very': 1, 'few': 1, 'laughs': 1})\n",
            "Counter({'the': 2, 'very': 1, 'powerful': 1, 'most': 1, 'fun': 1, 'film': 1, 'of': 1, 'summer': 1})\n",
            "megaDocNEG = just plain boring entirely predictable and lacks energy no surprises and very few laughs \n",
            "megaDocPOS = very powerful the most fun film of the summer \n",
            "Prior Probability NEG = 0.6, POS = 0.4\n",
            "BOW NEG(14) = {'just': 1, 'plain': 1, 'boring': 1, 'entirely': 1, 'predictable': 1, 'and': 2, 'lacks': 1, 'energy': 1, 'no': 1, 'surprises': 1, 'very': 1, 'few': 1, 'laughs': 1}, POS(9) = {'very': 1, 'powerful': 1, 'the': 2, 'most': 1, 'fun': 1, 'film': 1, 'of': 1, 'summer': 1}\n",
            "V = 20\n",
            "\n",
            "-----------------------------------------------------------\n",
            "the probability of test class is positive (+)\n"
          ]
        }
      ]
    }
  ]
}